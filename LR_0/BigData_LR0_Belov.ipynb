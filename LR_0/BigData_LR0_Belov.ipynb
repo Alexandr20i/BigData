{
  "cells": [
    {
      "cell_type": "markdown",
      "metadata": {
        "colab_type": "text",
        "id": "view-in-github"
      },
      "source": [
        "<a href=\"https://colab.research.google.com/github/Alexandr20i/BigData/blob/main/BigData_LR0_Belov_ipynb%22.ipynb\" target=\"_parent\"><img src=\"https://colab.research.google.com/assets/colab-badge.svg\" alt=\"Open In Colab\"/></a>"
      ]
    },
    {
      "cell_type": "markdown",
      "metadata": {
        "id": "82OvPKEiEqjc"
      },
      "source": [
        "# Введение в MapReduce модель на Python\n"
      ]
    },
    {
      "cell_type": "code",
      "execution_count": null,
      "metadata": {
        "id": "JQ2cvXLjICmI"
      },
      "outputs": [],
      "source": [
        "from typing import NamedTuple # requires python 3.6+\n",
        "from typing import Iterator"
      ]
    },
    {
      "cell_type": "code",
      "execution_count": null,
      "metadata": {
        "id": "yjPHumVwEyEg"
      },
      "outputs": [],
      "source": [
        "def MAP(_, row:NamedTuple):\n",
        "  if (row.gender == 'female'):\n",
        "    yield (row.age, row)\n",
        "\n",
        "def REDUCE(age:str, rows:Iterator[NamedTuple]):\n",
        "  sum = 0\n",
        "  count = 0\n",
        "  for row in rows:\n",
        "    sum += row.social_contacts\n",
        "    count += 1\n",
        "  if (count > 0):\n",
        "    yield (age, sum/count)\n",
        "  else:\n",
        "    yield (age, 0)"
      ]
    },
    {
      "cell_type": "markdown",
      "metadata": {
        "id": "vBKMgpG_ilaZ"
      },
      "source": [
        "Модель элемента данных"
      ]
    },
    {
      "cell_type": "code",
      "execution_count": null,
      "metadata": {
        "id": "Rv-XIjhTJPx3"
      },
      "outputs": [],
      "source": [
        "class User(NamedTuple):\n",
        "  id: int\n",
        "  age: str\n",
        "  social_contacts: int\n",
        "  gender: str"
      ]
    },
    {
      "cell_type": "code",
      "execution_count": null,
      "metadata": {
        "id": "5KV0Ze2vQgu5"
      },
      "outputs": [],
      "source": [
        "input_collection = [\n",
        "    User(id=0, age=55, gender='male', social_contacts=20),\n",
        "    User(id=1, age=25, gender='female', social_contacts=240),\n",
        "    User(id=2, age=25, gender='female', social_contacts=500),\n",
        "    User(id=3, age=33, gender='female', social_contacts=800)\n",
        "]"
      ]
    },
    {
      "cell_type": "markdown",
      "metadata": {
        "id": "YFeqzyZxZIFZ"
      },
      "source": [
        "Функция RECORDREADER моделирует чтение элементов с диска или по сети."
      ]
    },
    {
      "cell_type": "code",
      "execution_count": null,
      "metadata": {
        "id": "S5HR4E_GQoMJ"
      },
      "outputs": [],
      "source": [
        "def RECORDREADER():\n",
        "  return [(u.id, u) for u in input_collection]"
      ]
    },
    {
      "cell_type": "code",
      "execution_count": null,
      "metadata": {
        "colab": {
          "base_uri": "https://localhost:8080/"
        },
        "id": "NeEoWla-ROUy",
        "outputId": "8b4642b8-f255-4f61-bf8c-60ca2cb17aa1"
      },
      "outputs": [
        {
          "data": {
            "text/plain": [
              "[(0, User(id=0, age=55, social_contacts=20, gender='male')),\n",
              " (1, User(id=1, age=25, social_contacts=240, gender='female')),\n",
              " (2, User(id=2, age=25, social_contacts=500, gender='female')),\n",
              " (3, User(id=3, age=33, social_contacts=800, gender='female'))]"
            ]
          },
          "execution_count": 60,
          "metadata": {},
          "output_type": "execute_result"
        }
      ],
      "source": [
        "list(RECORDREADER())"
      ]
    },
    {
      "cell_type": "code",
      "execution_count": null,
      "metadata": {
        "id": "YB8orgPSZs8M"
      },
      "outputs": [],
      "source": [
        "def flatten(nested_iterable):\n",
        "  for iterable in nested_iterable:\n",
        "    for element in iterable:\n",
        "      yield element"
      ]
    },
    {
      "cell_type": "code",
      "execution_count": null,
      "metadata": {
        "colab": {
          "base_uri": "https://localhost:8080/"
        },
        "id": "74oyvDLaRmd5",
        "outputId": "8f932b9e-536b-4edd-c08d-ea97d7c83c93"
      },
      "outputs": [
        {
          "data": {
            "text/plain": [
              "[(25, User(id=1, age=25, social_contacts=240, gender='female')),\n",
              " (25, User(id=2, age=25, social_contacts=500, gender='female')),\n",
              " (33, User(id=3, age=33, social_contacts=800, gender='female'))]"
            ]
          },
          "execution_count": 62,
          "metadata": {},
          "output_type": "execute_result"
        }
      ],
      "source": [
        "map_output = flatten(map(lambda x: MAP(*x), RECORDREADER()))\n",
        "map_output = list(map_output) # materialize\n",
        "map_output"
      ]
    },
    {
      "cell_type": "code",
      "execution_count": null,
      "metadata": {
        "id": "8ncYDJ3-VzDn"
      },
      "outputs": [],
      "source": [
        "def groupbykey(iterable):\n",
        "  t = {}\n",
        "  for (k2, v2) in iterable:\n",
        "    t[k2] = t.get(k2, []) + [v2]\n",
        "  return t.items()"
      ]
    },
    {
      "cell_type": "code",
      "execution_count": null,
      "metadata": {
        "colab": {
          "base_uri": "https://localhost:8080/"
        },
        "id": "cKzY_6COWOA2",
        "outputId": "3fe410ec-3619-48b0-97fe-8b019a263742"
      },
      "outputs": [
        {
          "data": {
            "text/plain": [
              "[(25,\n",
              "  [User(id=1, age=25, social_contacts=240, gender='female'),\n",
              "   User(id=2, age=25, social_contacts=500, gender='female')]),\n",
              " (33, [User(id=3, age=33, social_contacts=800, gender='female')])]"
            ]
          },
          "execution_count": 64,
          "metadata": {},
          "output_type": "execute_result"
        }
      ],
      "source": [
        "shuffle_output = groupbykey(map_output)\n",
        "shuffle_output = list(shuffle_output)\n",
        "shuffle_output"
      ]
    },
    {
      "cell_type": "code",
      "execution_count": null,
      "metadata": {
        "colab": {
          "base_uri": "https://localhost:8080/"
        },
        "id": "NlA7lkDDYL0t",
        "outputId": "3d86257b-7cee-4797-f4cd-d3d101f6190c"
      },
      "outputs": [
        {
          "data": {
            "text/plain": [
              "[(25, 370.0), (33, 800.0)]"
            ]
          },
          "execution_count": 65,
          "metadata": {},
          "output_type": "execute_result"
        }
      ],
      "source": [
        "reduce_output = flatten(map(lambda x: REDUCE(*x), shuffle_output))\n",
        "reduce_output = list(reduce_output)\n",
        "reduce_output"
      ]
    },
    {
      "cell_type": "markdown",
      "metadata": {
        "id": "xf6qhHEtd6bI"
      },
      "source": [
        "Все действия одним конвейером!"
      ]
    },
    {
      "cell_type": "code",
      "execution_count": null,
      "metadata": {
        "colab": {
          "base_uri": "https://localhost:8080/"
        },
        "id": "dZaQGYxCdpw5",
        "outputId": "1486e400-2074-4592-a16c-6fc89aef360f"
      },
      "outputs": [
        {
          "data": {
            "text/plain": [
              "[(25, 370.0), (33, 800.0)]"
            ]
          },
          "execution_count": 66,
          "metadata": {},
          "output_type": "execute_result"
        }
      ],
      "source": [
        "list(flatten(map(lambda x: REDUCE(*x), groupbykey(flatten(map(lambda x: MAP(*x), RECORDREADER()))))))"
      ]
    },
    {
      "cell_type": "markdown",
      "metadata": {
        "id": "Vq3EWRIpwSiJ"
      },
      "source": [
        "# **MapReduce**\n",
        "Выделим общую для всех пользователей часть системы в отдельную функцию высшего порядка. Это наиболее простая модель MapReduce, без учёта распределённого хранения данных.\n",
        "\n",
        "Пользователь для решения своей задачи реализует RECORDREADER, MAP, REDUCE."
      ]
    },
    {
      "cell_type": "code",
      "execution_count": null,
      "metadata": {
        "id": "V1PZeQMwwVjc"
      },
      "outputs": [],
      "source": [
        "def flatten(nested_iterable):\n",
        "  for iterable in nested_iterable:\n",
        "    for element in iterable:\n",
        "      yield element\n",
        "\n",
        "def groupbykey(iterable):\n",
        "  t = {}\n",
        "  for (k2, v2) in iterable:\n",
        "    t[k2] = t.get(k2, []) + [v2]\n",
        "  return t.items()\n",
        "\n",
        "def MapReduce(RECORDREADER, MAP, REDUCE):\n",
        "  return flatten(map(lambda x: REDUCE(*x), groupbykey(flatten(map(lambda x: MAP(*x), RECORDREADER())))))"
      ]
    },
    {
      "cell_type": "markdown",
      "metadata": {
        "id": "iFIVrimep678"
      },
      "source": [
        "## Спецификация MapReduce\n",
        "\n",
        "\n",
        "\n",
        "```\n",
        "f (k1, v1) -> (k2,v2)*\n",
        "g (k2, v2*) -> (k3,v3)*\n",
        "\n",
        "mapreduce ((k1,v1)*) -> (k3,v3)*\n",
        "groupby ((k2,v2)*) -> (k2,v2*)*\n",
        "flatten (e2**) -> e2*\n",
        "\n",
        "mapreduce .map(f).flatten.groupby(k2).map(g).flatten\n",
        "```\n",
        "\n",
        "\n"
      ]
    },
    {
      "cell_type": "markdown",
      "metadata": {
        "id": "QtTFyqke3KGe"
      },
      "source": [
        "# Примеры"
      ]
    },
    {
      "cell_type": "markdown",
      "metadata": {
        "id": "BNhh5763w5Vn"
      },
      "source": [
        "## SQL"
      ]
    },
    {
      "cell_type": "code",
      "execution_count": null,
      "metadata": {
        "colab": {
          "base_uri": "https://localhost:8080/"
        },
        "id": "QkyurnvGxBGk",
        "outputId": "d2e365ff-c7f5-46ce-cf4a-81147b02d17a"
      },
      "outputs": [
        {
          "data": {
            "text/plain": [
              "[(25, 370.0), (33, 800.0)]"
            ]
          },
          "execution_count": 68,
          "metadata": {},
          "output_type": "execute_result"
        }
      ],
      "source": [
        "from typing import NamedTuple # requires python 3.6+\n",
        "from typing import Iterator\n",
        "\n",
        "class User(NamedTuple):\n",
        "  id: int\n",
        "  age: str\n",
        "  social_contacts: int\n",
        "  gender: str\n",
        "\n",
        "input_collection = [\n",
        "    User(id=0, age=55, gender='male', social_contacts=20),\n",
        "    User(id=1, age=25, gender='female', social_contacts=240),\n",
        "    User(id=2, age=25, gender='female', social_contacts=500),\n",
        "    User(id=3, age=33, gender='female', social_contacts=800)\n",
        "]\n",
        "\n",
        "def MAP(_, row:NamedTuple):\n",
        "  if (row.gender == 'female'):\n",
        "    yield (row.age, row)\n",
        "\n",
        "def REDUCE(age:str, rows:Iterator[NamedTuple]):\n",
        "  sum = 0\n",
        "  count = 0\n",
        "  for row in rows:\n",
        "    sum += row.social_contacts\n",
        "    count += 1\n",
        "  if (count > 0):\n",
        "    yield (age, sum/count)\n",
        "  else:\n",
        "    yield (age, 0)\n",
        "\n",
        "def RECORDREADER():\n",
        "  return [(u.id, u) for u in input_collection]\n",
        "\n",
        "output = MapReduce(RECORDREADER, MAP, REDUCE)\n",
        "output = list(output)\n",
        "output"
      ]
    },
    {
      "cell_type": "markdown",
      "metadata": {
        "id": "kNKYIeerx0nY"
      },
      "source": [
        "## Matrix-Vector multiplication"
      ]
    },
    {
      "cell_type": "code",
      "execution_count": null,
      "metadata": {
        "colab": {
          "base_uri": "https://localhost:8080/"
        },
        "id": "rwcntRcCyi1V",
        "outputId": "dd2a1a8d-dbca-4333-8490-cd225931c1e0"
      },
      "outputs": [
        {
          "data": {
            "text/plain": [
              "[(0, 1.8294082019291567),\n",
              " (1, 1.8294082019291567),\n",
              " (2, 1.8294082019291567),\n",
              " (3, 1.8294082019291567),\n",
              " (4, 1.8294082019291567)]"
            ]
          },
          "execution_count": 69,
          "metadata": {},
          "output_type": "execute_result"
        }
      ],
      "source": [
        "from typing import Iterator\n",
        "import numpy as np\n",
        "\n",
        "mat = np.ones((5,4))\n",
        "vec = np.random.rand(4) # in-memory vector in all map tasks\n",
        "\n",
        "def MAP(coordinates:(int, int), value:int):\n",
        "  i, j = coordinates\n",
        "  yield (i, value*vec[j])\n",
        "\n",
        "def REDUCE(i:int, products:Iterator[NamedTuple]):\n",
        "  sum = 0\n",
        "  for p in products:\n",
        "    sum += p\n",
        "  yield (i, sum)\n",
        "\n",
        "def RECORDREADER():\n",
        "  for i in range(mat.shape[0]):\n",
        "    for j in range(mat.shape[1]):\n",
        "      yield ((i, j), mat[i,j])\n",
        "\n",
        "output = MapReduce(RECORDREADER, MAP, REDUCE)\n",
        "output = list(output)\n",
        "output"
      ]
    },
    {
      "cell_type": "markdown",
      "metadata": {
        "id": "ruZREYdi2o4O"
      },
      "source": [
        "## Inverted index"
      ]
    },
    {
      "cell_type": "code",
      "execution_count": null,
      "metadata": {
        "colab": {
          "base_uri": "https://localhost:8080/"
        },
        "id": "vt9H9Alf3TYv",
        "outputId": "9363bee4-178e-4dca-a83b-702811ecc003"
      },
      "outputs": [
        {
          "data": {
            "text/plain": [
              "[('is', ['0', '1', '2']),\n",
              " ('it', ['0', '1', '2']),\n",
              " ('what', ['0', '1']),\n",
              " ('a', ['2']),\n",
              " ('banana', ['2'])]"
            ]
          },
          "execution_count": 70,
          "metadata": {},
          "output_type": "execute_result"
        }
      ],
      "source": [
        "from typing import Iterator\n",
        "\n",
        "d1 = \"it is what it is\"\n",
        "d2 = \"what is it\"\n",
        "d3 = \"it is a banana\"\n",
        "documents = [d1, d2, d3]\n",
        "\n",
        "def RECORDREADER():\n",
        "  for (docid, document) in enumerate(documents):\n",
        "    yield (\"{}\".format(docid), document)\n",
        "\n",
        "def MAP(docId:str, body:str):\n",
        "  for word in set(body.split(' ')):\n",
        "    yield (word, docId)\n",
        "\n",
        "def REDUCE(word:str, docIds:Iterator[str]):\n",
        "  yield (word, sorted(docIds))\n",
        "\n",
        "output = MapReduce(RECORDREADER, MAP, REDUCE)\n",
        "output = list(output)\n",
        "output"
      ]
    },
    {
      "cell_type": "markdown",
      "metadata": {
        "id": "R7az-6DA6qr2"
      },
      "source": [
        "## WordCount"
      ]
    },
    {
      "cell_type": "code",
      "execution_count": null,
      "metadata": {
        "colab": {
          "base_uri": "https://localhost:8080/"
        },
        "id": "dN-nbtgG6uYG",
        "outputId": "8d6565b1-dee1-49e8-c33e-d69cff1b0d79"
      },
      "outputs": [
        {
          "data": {
            "text/plain": [
              "[('', 3), ('it', 9), ('is', 9), ('what', 5), ('a', 1), ('banana', 1)]"
            ]
          },
          "execution_count": 71,
          "metadata": {},
          "output_type": "execute_result"
        }
      ],
      "source": [
        "from typing import Iterator\n",
        "\n",
        "d1 = \"\"\"\n",
        "it is what it is\n",
        "it is what it is\n",
        "it is what it is\"\"\"\n",
        "d2 = \"\"\"\n",
        "what is it\n",
        "what is it\"\"\"\n",
        "d3 = \"\"\"\n",
        "it is a banana\"\"\"\n",
        "documents = [d1, d2, d3]\n",
        "\n",
        "def RECORDREADER():\n",
        "  for (docid, document) in enumerate(documents):\n",
        "    for (lineid, line) in enumerate(document.split('\\n')):\n",
        "      yield (\"{}:{}\".format(docid,lineid), line)\n",
        "\n",
        "def MAP(docId:str, line:str):\n",
        "  for word in line.split(\" \"):\n",
        "    yield (word, 1)\n",
        "\n",
        "def REDUCE(word:str, counts:Iterator[int]):\n",
        "  sum = 0\n",
        "  for c in counts:\n",
        "    sum += c\n",
        "  yield (word, sum)\n",
        "\n",
        "output = MapReduce(RECORDREADER, MAP, REDUCE)\n",
        "output = list(output)\n",
        "output"
      ]
    },
    {
      "cell_type": "markdown",
      "metadata": {
        "id": "h-jRAcYCAkkk"
      },
      "source": [
        "# MapReduce Distributed\n",
        "\n",
        "Добавляется в модель фабрика RECORDREARER-ов --- INPUTFORMAT, функция распределения промежуточных результатов по партициям PARTITIONER, и функция COMBINER для частичной аггрегации промежуточных результатов до распределения по новым партициям."
      ]
    },
    {
      "cell_type": "code",
      "execution_count": null,
      "metadata": {
        "id": "nw-b-xJsApgW"
      },
      "outputs": [],
      "source": [
        "def flatten(nested_iterable):\n",
        "  for iterable in nested_iterable:\n",
        "    for element in iterable:\n",
        "      yield element\n",
        "\n",
        "def groupbykey(iterable):\n",
        "  t = {}\n",
        "  for (k2, v2) in iterable:\n",
        "    t[k2] = t.get(k2, []) + [v2]\n",
        "  return t.items()\n",
        "\n",
        "def groupbykey_distributed(map_partitions, PARTITIONER):\n",
        "  global reducers\n",
        "  partitions = [dict() for _ in range(reducers)]\n",
        "  for map_partition in map_partitions:\n",
        "    for (k2, v2) in map_partition:\n",
        "      p = partitions[PARTITIONER(k2)]\n",
        "      p[k2] = p.get(k2, []) + [v2]\n",
        "  return [(partition_id, sorted(partition.items(), key=lambda x: x[0])) for (partition_id, partition) in enumerate(partitions)]\n",
        "\n",
        "def PARTITIONER(obj):\n",
        "  global reducers\n",
        "  return hash(obj) % reducers\n",
        "\n",
        "def MapReduceDistributed(INPUTFORMAT, MAP, REDUCE, PARTITIONER=PARTITIONER, COMBINER=None):\n",
        "  map_partitions = map(lambda record_reader: flatten(map(lambda k1v1: MAP(*k1v1), record_reader)), INPUTFORMAT())\n",
        "  if COMBINER != None:\n",
        "    map_partitions = map(lambda map_partition: flatten(map(lambda k2v2: COMBINER(*k2v2), groupbykey(map_partition))), map_partitions)\n",
        "  reduce_partitions = groupbykey_distributed(map_partitions, PARTITIONER) # shuffle\n",
        "  reduce_outputs = map(lambda reduce_partition: (reduce_partition[0], flatten(map(lambda reduce_input_group: REDUCE(*reduce_input_group), reduce_partition[1]))), reduce_partitions)\n",
        "\n",
        "  print(\"{} key-value pairs were sent over a network.\".format(sum([len(vs) for (k,vs) in flatten([partition for (partition_id, partition) in reduce_partitions])])))\n",
        "  return reduce_outputs"
      ]
    },
    {
      "cell_type": "markdown",
      "metadata": {
        "id": "kxirlf3XqZxY"
      },
      "source": [
        "## Спецификация MapReduce Distributed\n",
        "\n",
        "\n",
        "```\n",
        "f (k1, v1) -> (k2,v2)*\n",
        "g (k2, v2*) -> (k3,v3)*\n",
        "\n",
        "e1 (k1, v1)\n",
        "e2 (k2, v2)\n",
        "partition1 (k2, v2)*\n",
        "partition2 (k2, v2*)*\n",
        "\n",
        "flatmap (e1->e2*, e1*) -> partition1*\n",
        "groupby (partition1*) -> partition2*\n",
        "\n",
        "mapreduce ((k1,v1)*) -> (k3,v3)*\n",
        "mapreduce .flatmap(f).groupby(k2).flatmap(g)\n",
        "```\n",
        "\n"
      ]
    },
    {
      "cell_type": "markdown",
      "metadata": {
        "id": "CWYw_CpbbY3C"
      },
      "source": [
        "## WordCount"
      ]
    },
    {
      "cell_type": "code",
      "execution_count": null,
      "metadata": {
        "colab": {
          "base_uri": "https://localhost:8080/"
        },
        "id": "uR_zfGFkMZlp",
        "outputId": "7c9202c7-ef3d-4c19-d761-9304ae548b57"
      },
      "outputs": [
        {
          "name": "stdout",
          "output_type": "stream",
          "text": [
            "56 key-value pairs were sent over a network.\n"
          ]
        },
        {
          "data": {
            "text/plain": [
              "[(0, [('', 6), ('is', 18), ('it', 18)]),\n",
              " (1, [('a', 2), ('banana', 2), ('what', 10)])]"
            ]
          },
          "execution_count": 73,
          "metadata": {},
          "output_type": "execute_result"
        }
      ],
      "source": [
        "from typing import Iterator\n",
        "import numpy as np\n",
        "\n",
        "d1 = \"\"\"\n",
        "it is what it is\n",
        "it is what it is\n",
        "it is what it is\"\"\"\n",
        "d2 = \"\"\"\n",
        "what is it\n",
        "what is it\"\"\"\n",
        "d3 = \"\"\"\n",
        "it is a banana\"\"\"\n",
        "documents = [d1, d2, d3, d1, d2, d3]\n",
        "\n",
        "maps = 3\n",
        "reducers = 2\n",
        "\n",
        "def INPUTFORMAT():\n",
        "  global maps\n",
        "\n",
        "  def RECORDREADER(split):\n",
        "    for (docid, document) in enumerate(split):\n",
        "      for (lineid, line) in enumerate(document.split('\\n')):\n",
        "        yield (\"{}:{}\".format(docid,lineid), line)\n",
        "\n",
        "  split_size =  int(np.ceil(len(documents)/maps))\n",
        "  for i in range(0, len(documents), split_size):\n",
        "    yield RECORDREADER(documents[i:i+split_size])\n",
        "\n",
        "def MAP(docId:str, line:str):\n",
        "  for word in line.split(\" \"):\n",
        "    yield (word, 1)\n",
        "\n",
        "def REDUCE(word:str, counts:Iterator[int]):\n",
        "  sum = 0\n",
        "  for c in counts:\n",
        "    sum += c\n",
        "  yield (word, sum)\n",
        "\n",
        "# try to set COMBINER=REDUCER and look at the number of values sent over the network\n",
        "partitioned_output = MapReduceDistributed(INPUTFORMAT, MAP, REDUCE, COMBINER=None)\n",
        "partitioned_output = [(partition_id, list(partition)) for (partition_id, partition) in partitioned_output]\n",
        "partitioned_output"
      ]
    },
    {
      "cell_type": "markdown",
      "metadata": {
        "id": "gCJGx8IQ87xS"
      },
      "source": [
        "## TeraSort"
      ]
    },
    {
      "cell_type": "code",
      "execution_count": null,
      "metadata": {
        "colab": {
          "base_uri": "https://localhost:8080/"
        },
        "id": "P2v8v1v_8_YR",
        "outputId": "f3ed2550-960f-454f-ff0c-1d59a2d7be3f"
      },
      "outputs": [
        {
          "name": "stdout",
          "output_type": "stream",
          "text": [
            "30 key-value pairs were sent over a network.\n"
          ]
        },
        {
          "data": {
            "text/plain": [
              "[(0,\n",
              "  [(None, 0.012265999527011129),\n",
              "   (None, 0.032351340486612146),\n",
              "   (None, 0.03846712479414216),\n",
              "   (None, 0.052032613873847944),\n",
              "   (None, 0.15773407339644951),\n",
              "   (None, 0.20331208032690118),\n",
              "   (None, 0.21891705553651097),\n",
              "   (None, 0.253163563605703),\n",
              "   (None, 0.26635500496748465),\n",
              "   (None, 0.3432510158145392),\n",
              "   (None, 0.36815931453270667),\n",
              "   (None, 0.39065500667086817),\n",
              "   (None, 0.417178675522929)]),\n",
              " (1,\n",
              "  [(None, 0.5090829994374483),\n",
              "   (None, 0.5870367118165211),\n",
              "   (None, 0.6169764889704248),\n",
              "   (None, 0.6593726735238871),\n",
              "   (None, 0.6652279650111954),\n",
              "   (None, 0.7073106120645201),\n",
              "   (None, 0.7166834838979158),\n",
              "   (None, 0.7695680290250446),\n",
              "   (None, 0.7779429098815568),\n",
              "   (None, 0.8298366495444975),\n",
              "   (None, 0.8652592641206167),\n",
              "   (None, 0.8870505649007816),\n",
              "   (None, 0.8991827030005124),\n",
              "   (None, 0.899762325614491),\n",
              "   (None, 0.9283845491476055),\n",
              "   (None, 0.9785550393754211),\n",
              "   (None, 0.9810450383853389)])]"
            ]
          },
          "execution_count": 74,
          "metadata": {},
          "output_type": "execute_result"
        }
      ],
      "source": [
        "import numpy as np\n",
        "\n",
        "input_values = np.random.rand(30)\n",
        "maps = 3\n",
        "reducers = 2\n",
        "min_value = 0.0\n",
        "max_value = 1.0\n",
        "\n",
        "def INPUTFORMAT():\n",
        "  global maps\n",
        "\n",
        "  def RECORDREADER(split):\n",
        "    for value in split:\n",
        "        yield (value, None)\n",
        "\n",
        "  split_size =  int(np.ceil(len(input_values)/maps))\n",
        "  for i in range(0, len(input_values), split_size):\n",
        "    yield RECORDREADER(input_values[i:i+split_size])\n",
        "\n",
        "def MAP(value:int, _):\n",
        "  yield (value, None)\n",
        "\n",
        "def PARTITIONER(key):\n",
        "  global reducers\n",
        "  global max_value\n",
        "  global min_value\n",
        "  bucket_size = (max_value-min_value)/reducers\n",
        "  bucket_id = 0\n",
        "  while((key>(bucket_id+1)*bucket_size) and ((bucket_id+1)*bucket_size<max_value)):\n",
        "    bucket_id += 1\n",
        "  return bucket_id\n",
        "\n",
        "def REDUCE(value:int, _):\n",
        "  yield (None,value)\n",
        "\n",
        "partitioned_output = MapReduceDistributed(INPUTFORMAT, MAP, REDUCE, COMBINER=None, PARTITIONER=PARTITIONER)\n",
        "partitioned_output = [(partition_id, list(partition)) for (partition_id, partition) in partitioned_output]\n",
        "partitioned_output"
      ]
    },
    {
      "cell_type": "code",
      "execution_count": null,
      "metadata": {
        "id": "MQhoJaVZI93G"
      },
      "outputs": [],
      "source": []
    },
    {
      "cell_type": "markdown",
      "metadata": {
        "id": "Iy65YJTH99iT"
      },
      "source": [
        "# Упражнения\n",
        "Упражнения взяты из Rajaraman A., Ullman J. D. Mining of massive datasets. – Cambridge University Press, 2011.\n",
        "\n",
        "\n",
        "Для выполнения заданий переопределите функции RECORDREADER, MAP, REDUCE. Для модели распределённой системы может потребоваться переопределение функций PARTITION и COMBINER."
      ]
    },
    {
      "cell_type": "markdown",
      "metadata": {
        "id": "cfvAeZm3S8S8"
      },
      "source": [
        "### Максимальное значение ряда\n",
        "\n",
        "Разработайте MapReduce алгоритм, который находит максимальное число входного списка чисел."
      ]
    },
    {
      "cell_type": "code",
      "execution_count": null,
      "metadata": {
        "colab": {
          "base_uri": "https://localhost:8080/"
        },
        "id": "3GRA1JR-Tkbg",
        "outputId": "a8a8f3d8-4e72-440e-a696-7d54d1c419d6"
      },
      "outputs": [
        {
          "name": "stdout",
          "output_type": "stream",
          "text": [
            "57\n",
            "[[57, 42, 39, 16, 37]]\n"
          ]
        }
      ],
      "source": [
        "import random\n",
        "\n",
        "def MAP(list_num): return max(list_num)\n",
        "\n",
        "def REDUCE(list_num): return max(list_num)\n",
        "\n",
        "def RECORDREADER(count): return [random.randint(0, 100) for i in range(count)]\n",
        "\n",
        "record = RECORDREADER(5)\n",
        "\n",
        "\n",
        "parts = 5\n",
        "record_partitional = [record[d:d + parts] for d in range(0, len(record), parts)]\n",
        "print(REDUCE(list(map(lambda x: MAP(x), record_partitional))))\n",
        "print(record_partitional)"
      ]
    },
    {
      "cell_type": "markdown",
      "metadata": {
        "id": "k86bXnqZTk-U"
      },
      "source": [
        "### Арифметическое среднее\n",
        "\n",
        "Разработайте MapReduce алгоритм, который находит арифметическое среднее.\n",
        "\n",
        "$$\\overline{X} = \\frac{1}{n}\\sum_{i=0}^{n} x_i$$\n"
      ]
    },
    {
      "cell_type": "code",
      "execution_count": null,
      "metadata": {
        "colab": {
          "base_uri": "https://localhost:8080/"
        },
        "id": "MPoY5pkfUNZf",
        "outputId": "a0ffbdb2-d460-4bbd-8f9d-a9f5eb60f6be"
      },
      "outputs": [
        {
          "name": "stdout",
          "output_type": "stream",
          "text": [
            "[('AVG', 32.6)]\n",
            "[(1, 4), (1, 32), (1, 34), (1, 50), (1, 45), (1, 12), (1, 38), (1, 34), (1, 28), (1, 49)]\n"
          ]
        }
      ],
      "source": [
        "from typing import Iterator\n",
        "import random\n",
        "\n",
        "def RECORDREADER(count):\n",
        "    return [random.randint(0, 50) for i in range(count)]\n",
        "\n",
        "def MAP(num):\n",
        "    return (1, num)\n",
        "\n",
        "def REDUCE(_, numbers:Iterator[NamedTuple]):\n",
        "    sum = 0\n",
        "    count = 0\n",
        "    for number in numbers:\n",
        "      sum+=number\n",
        "      count+=1\n",
        "    yield('AVG', sum/count)\n",
        "\n",
        "map_output = list(map(lambda x: MAP(x), RECORDREADER(10)))\n",
        "\n",
        "shuffle_output = groupbykey(map_output)\n",
        "shuffle_output = list(shuffle_output)\n",
        "\n",
        "output = list(flatten(map(lambda x: REDUCE(*x), shuffle_output)))\n",
        "print(output)\n",
        "print(map_output)\n"
      ]
    },
    {
      "cell_type": "markdown",
      "metadata": {
        "id": "xanzszhsIlLe"
      },
      "source": [
        "### GroupByKey на основе сортировки\n",
        "\n",
        "Реализуйте groupByKey на основе сортировки, проверьте его работу на примерах"
      ]
    },
    {
      "cell_type": "code",
      "execution_count": null,
      "metadata": {
        "colab": {
          "base_uri": "https://localhost:8080/"
        },
        "id": "hQPn3USsIkEC",
        "outputId": "451f30ed-c043-44e6-b6da-038ab7e98932"
      },
      "outputs": [
        {
          "name": "stdout",
          "output_type": "stream",
          "text": [
            "[(1, [0, 4, 5])]\n",
            "[('AVG', 3.0)]\n"
          ]
        }
      ],
      "source": [
        "def group_by_key(iterable):\n",
        "    sorted_data = sorted(iterable, key=lambda x: x[0])\n",
        "    grouped_data = {}\n",
        "    for key, value in sorted_data:\n",
        "        if key not in grouped_data:\n",
        "            grouped_data[key] = [value]\n",
        "        else:\n",
        "            grouped_data[key].append(value)\n",
        "    result = []\n",
        "    for key, value in grouped_data.items():\n",
        "        result.append((key, value))\n",
        "    return result\n",
        "\n",
        "def MAP(num):\n",
        "    return (1, num)\n",
        "\n",
        "\n",
        "def REDUCE(_, numbers:Iterator[NamedTuple]):\n",
        "    sum = 0\n",
        "    count = 0\n",
        "    for number in numbers:\n",
        "      sum+=number\n",
        "      count+=1\n",
        "    yield('AVG', sum/count)\n",
        "\n",
        "\n",
        "def RECORDREADER(count):\n",
        "    return [random.randint(0, 5) for i in range(count)]\n",
        "\n",
        "map_output = list(map(lambda x: MAP(x), RECORDREADER(3)))\n",
        "shuffle_output = group_by_key(map_output)\n",
        "shuffle_output = list(shuffle_output)\n",
        "print(shuffle_output)\n",
        "\n",
        "output = list(flatten(map(lambda x: REDUCE(*x), shuffle_output)))\n",
        "print(output)"
      ]
    },
    {
      "cell_type": "markdown",
      "metadata": {
        "id": "5SgEjCZyGnu6"
      },
      "source": [
        "### Drop duplicates (set construction, unique elements, distinct)\n",
        "\n",
        "Реализуйте распределённую операцию исключения дубликатов"
      ]
    },
    {
      "cell_type": "code",
      "execution_count": null,
      "metadata": {
        "colab": {
          "base_uri": "https://localhost:8080/"
        },
        "id": "okjbyApjGhMt",
        "outputId": "b69af70b-119e-4bab-aee6-abf22a224ed6"
      },
      "outputs": [
        {
          "name": "stdout",
          "output_type": "stream",
          "text": [
            "56 key-value pairs were sent over a network.\n"
          ]
        },
        {
          "data": {
            "text/plain": [
              "[(0, ['', 'is', 'it']), (1, ['a', 'banana', 'what'])]"
            ]
          },
          "execution_count": 78,
          "metadata": {},
          "output_type": "execute_result"
        }
      ],
      "source": [
        "from typing import Iterator\n",
        "import numpy as np\n",
        "\n",
        "d1 = \"\"\"\n",
        "it is what it is\n",
        "it is what it is\n",
        "it is what it is\"\"\"\n",
        "d2 = \"\"\"\n",
        "what is it\n",
        "what is it\"\"\"\n",
        "d3 = \"\"\"\n",
        "it is a banana\"\"\"\n",
        "documents = [d1, d2, d3, d1, d2, d3]\n",
        "\n",
        "maps = 3\n",
        "reducers = 2\n",
        "\n",
        "def INPUTFORMAT():\n",
        "  global maps\n",
        "\n",
        "  def RECORDREADER(split):\n",
        "    for (docid, document) in enumerate(split):\n",
        "      for (lineid, line) in enumerate(document.split('\\n')):\n",
        "        yield (\"{}:{}\".format(docid,lineid), line)\n",
        "\n",
        "  split_size =  int(np.ceil(len(documents)/maps))\n",
        "  for i in range(0, len(documents), split_size):\n",
        "    yield RECORDREADER(documents[i:i+split_size])\n",
        "\n",
        "def MAP(docId:str, line:str):\n",
        "  for word in line.split(\" \"):\n",
        "    yield (word, word)\n",
        "\n",
        "def REDUCE(key:str, value:Iterator[str]):\n",
        "  yield key\n",
        "\n",
        "partitioned_output = MapReduceDistributed(INPUTFORMAT, MAP, REDUCE, COMBINER=None)\n",
        "partitioned_output = [(partition_id, list(partition)) for (partition_id, partition) in partitioned_output]\n",
        "partitioned_output"
      ]
    },
    {
      "cell_type": "markdown",
      "metadata": {
        "id": "e7sRGoTXuJze"
      },
      "source": [
        "#Операторы реляционной алгебры\n",
        "### Selection (Выборка)\n",
        "\n",
        "**The Map Function**: Для  каждого кортежа $t \\in R$ вычисляется истинность предиката $C$. В случае истины создаётся пара ключ-значение $(t, t)$. В паре ключ и значение одинаковы, равны $t$.\n",
        "\n",
        "**The Reduce Function:** Роль функции Reduce выполняет функция идентичности, которая возвращает то же значение, что получила на вход.\n",
        "\n"
      ]
    },
    {
      "cell_type": "code",
      "execution_count": null,
      "metadata": {
        "colab": {
          "base_uri": "https://localhost:8080/"
        },
        "id": "4nKIKe59uIfc",
        "outputId": "8b2f3c43-1b41-4646-9270-13d4581d1af5"
      },
      "outputs": [
        {
          "name": "stdout",
          "output_type": "stream",
          "text": [
            "[(User(id=1, age=25, social_contacts=240, gender='female'), [User(id=1, age=25, social_contacts=240, gender='female')]), (User(id=2, age=25, social_contacts=500, gender='female'), [User(id=2, age=25, social_contacts=500, gender='female')]), (User(id=3, age=33, social_contacts=800, gender='female'), [User(id=3, age=33, social_contacts=800, gender='female')])]\n"
          ]
        }
      ],
      "source": [
        "from collections import defaultdict\n",
        "from typing import Iterator, NamedTuple\n",
        "\n",
        "def map_select(_: None, row: NamedTuple) -> Iterator[tuple[NamedTuple, NamedTuple]]:# Функция Map для выбора женщин.\n",
        "    if row.gender == \"female\":\n",
        "        yield (row, row)\n",
        "\n",
        "def reduce_select(row: NamedTuple, rows: Iterator[NamedTuple]) -> Iterator[tuple[NamedTuple, list[NamedTuple]]]:# Функция Reduce для группировки женщин по характеристике (row).\n",
        "    yield (row, list(rows))  # Преобразуем итератор в список\n",
        "\n",
        "def record_reader() -> list[tuple[int, NamedTuple]]: # Функция чтения записей.\n",
        "    return [(u.id, u) for u in input_collection]  # предполагается, что input_collection определен где-то выше\n",
        "\n",
        "def group_by_key(iterable: list[tuple[NamedTuple, NamedTuple]]) -> list[tuple[NamedTuple, list[NamedTuple]]]: # Группировка по ключу (Shuffle).\n",
        "    grouped_data = defaultdict(list)\n",
        "    for key, value in iterable:\n",
        "        grouped_data[key].append(value)\n",
        "    return list(grouped_data.items())\n",
        "\n",
        "def flatten(list_of_lists: list[list]) -> list: # Функция для \"расплющивания\" списка списков.\n",
        "    return [item for sublist in list_of_lists for item in sublist]\n",
        "\n",
        "def map_reduce(data: list[tuple[int, NamedTuple]]) -> list[tuple[NamedTuple, list[NamedTuple]]]: # Функция MapReduce.\n",
        "    map_output = list(flatten(map(lambda x: list(map_select(None, x[1])), data))) # Применяем map_select к каждому элементу\n",
        "    shuffle_output = group_by_key(map_output)\n",
        "    reduce_output = list(flatten(map(lambda x: list(reduce_select(x[0], iter(x[1]))), shuffle_output)))\n",
        "    return reduce_output\n",
        "\n",
        "\n",
        "output = map_reduce(record_reader())\n",
        "print(output)"
      ]
    },
    {
      "cell_type": "markdown",
      "metadata": {
        "id": "w27Ca-_Ku85V"
      },
      "source": [
        "### Projection (Проекция)\n",
        "\n",
        "Проекция на множество атрибутов $S$.\n",
        "\n",
        "**The Map Function:** Для каждого кортежа $t \\in R$ создайте кортеж $t′$, исключая  из $t$ те значения, атрибуты которых не принадлежат  $S$. Верните пару $(t′, t′)$.\n",
        "\n",
        "**The Reduce Function:** Для каждого ключа $t′$, созданного любой Map задачей, вы получаете одну или несколько пар $(t′, t′)$. Reduce функция преобразует $(t′, [t′, t′, . . . , t′])$ в $(t′, t′)$, так, что для ключа $t′$ возвращается одна пара  $(t′, t′)$."
      ]
    },
    {
      "cell_type": "code",
      "execution_count": null,
      "metadata": {
        "colab": {
          "base_uri": "https://localhost:8080/"
        },
        "id": "BEvuY4GqvhS6",
        "outputId": "673aa2a9-04ca-46c9-9a68-566142aa702d"
      },
      "outputs": [
        {
          "data": {
            "text/plain": [
              "[(0,\n",
              "  [{'id': 0, 'age': 51, 'gender': 'male', 'social_contacts': 21},\n",
              "   {'id': 0, 'age': 22, 'gender': 'female', 'social_contacts': 240}]),\n",
              " (1, [{'id': 1, 'age': 27, 'social_contacts': 632}]),\n",
              " (2,\n",
              "  [{'id': 2, 'age': 11, 'gender': 'male', 'social_contacts': 123},\n",
              "   {'id': 2, 'age': 35, 'social_contacts': 27}]),\n",
              " (3, [{'id': 3, 'age': 41, 'gender': 'male', 'social_contacts': 621}])]"
            ]
          },
          "execution_count": 80,
          "metadata": {},
          "output_type": "execute_result"
        }
      ],
      "source": [
        "input_collection_2 = [\n",
        "    dict(id=0, age=51, gender=\"male\", social_contacts=21),\n",
        "    dict(id=0, age=22, gender=\"female\", social_contacts=240),\n",
        "    dict(id=1, age=27, gender=\"undefined\", social_contacts=632),\n",
        "    dict(id=2, age=11, gender=\"male\", social_contacts=123),\n",
        "    dict(id=2, age=35, gender=\"undefined\", social_contacts=27),\n",
        "    dict(id=3, age=41, gender=\"male\", social_contacts=621),\n",
        "]\n",
        "def MAP_PROJECTION(_, row: dict):\n",
        "    S = [\"male\", \"female\"]\n",
        "    if row[\"gender\"] in S:\n",
        "        yield (row[\"id\"], row)\n",
        "    else:\n",
        "        # Удаляем поле gender у полученого словаря\n",
        "        modified_row = row.copy()\n",
        "        del modified_row[\"gender\"]\n",
        "        yield (modified_row[\"id\"], modified_row)\n",
        "\n",
        "\n",
        "def REDUCE_PROJECTION(row: str, rows: Iterator[NamedTuple]):\n",
        "    yield (row, rows)\n",
        "\n",
        "\n",
        "def RECORDREADER():\n",
        "    return [(u[\"id\"], u) for u in input_collection_2]\n",
        "\n",
        "\n",
        "output = MapReduce(RECORDREADER, MAP_PROJECTION, REDUCE_PROJECTION)\n",
        "output = list(output)\n",
        "output"
      ]
    },
    {
      "cell_type": "markdown",
      "metadata": {
        "id": "7gau6lKXvn2R"
      },
      "source": [
        "### Union (Объединение)\n",
        "\n",
        "**The Map Function:** Превратите каждый входной кортеж $t$ в пару ключ-значение $(t, t)$.\n",
        "\n",
        "**The Reduce Function:** С каждым ключом $t$ будет ассоциировано одно или два значений. В обоих случаях создайте $(t, t)$ в качестве выходного значения."
      ]
    },
    {
      "cell_type": "code",
      "execution_count": null,
      "metadata": {
        "colab": {
          "base_uri": "https://localhost:8080/"
        },
        "id": "Sns7a5agv3nw",
        "outputId": "78f4cb23-03d9-4043-c509-a9d24baa8e59"
      },
      "outputs": [
        {
          "data": {
            "text/plain": [
              "[(User(id=1, age=54, social_contacts=125, gender='male'),\n",
              "  User(id=1, age=54, social_contacts=125, gender='male')),\n",
              " (User(id=2, age=21, social_contacts=123, gender='female'),\n",
              "  User(id=2, age=21, social_contacts=123, gender='female')),\n",
              " (User(id=3, age=21, social_contacts=63, gender='male'),\n",
              "  User(id=3, age=21, social_contacts=63, gender='male')),\n",
              " (User(id=4, age=19, social_contacts=725, gender='male'),\n",
              "  User(id=4, age=19, social_contacts=725, gender='male')),\n",
              " (User(id=5, age=38, social_contacts=242, gender='female'),\n",
              "  User(id=5, age=38, social_contacts=242, gender='female')),\n",
              " (User(id=6, age=76, social_contacts=4679, gender='male'),\n",
              "  User(id=6, age=76, social_contacts=4679, gender='male')),\n",
              " (User(id=7, age=44, social_contacts=12, gender='female'),\n",
              "  User(id=7, age=44, social_contacts=12, gender='female'))]"
            ]
          },
          "execution_count": 81,
          "metadata": {},
          "output_type": "execute_result"
        }
      ],
      "source": [
        "input_collection_a = [\n",
        "    User(id=1, age=54, gender=\"male\", social_contacts=125),\n",
        "    User(id=2, age=21, gender=\"female\", social_contacts=123),\n",
        "    User(id=3, age=21, gender=\"male\", social_contacts=63),\n",
        "    User(id=4, age=19, gender=\"male\", social_contacts=725),\n",
        "    User(id=5, age=38, gender=\"female\", social_contacts=242),\n",
        "]\n",
        "\n",
        "input_collection_b = [\n",
        "    User(id=5, age=32, gender=\"female\", social_contacts=213),\n",
        "    User(id=6, age=76, gender=\"male\", social_contacts=4679),\n",
        "    User(id=7, age=44, gender=\"female\", social_contacts=12),\n",
        "]\n",
        "\n",
        "# Группировка пользователей по id\n",
        "def MAP_UNION(_, row: NamedTuple):\n",
        "    yield (row.id, row)\n",
        "\n",
        "\n",
        "# Выходное значение равно (t, t) независимо от присутствия пользователя в только одной или обоих выборках\n",
        "def REDUCE_UNION(row: str, rows: Iterator[NamedTuple]):\n",
        "    yield (rows[0], rows[0])\n",
        "\n",
        "\n",
        "def RECORDREADER():\n",
        "    return [(u.id, u) for u in input_collection_a + input_collection_b]\n",
        "\n",
        "\n",
        "output = MapReduce(RECORDREADER, MAP_UNION, REDUCE_UNION)\n",
        "output = list(output)\n",
        "output"
      ]
    },
    {
      "cell_type": "markdown",
      "metadata": {
        "id": "dQ8TuEbjv4J8"
      },
      "source": [
        "### Intersection (Пересечение)\n",
        "\n",
        "**The Map Function:** Превратите каждый кортеж $t$ в пары ключ-значение $(t, t)$.\n",
        "\n",
        "**The Reduce Function:** Если для ключа $t$ есть список из двух элементов $[t, t]$ $-$ создайте пару $(t, t)$. Иначе, ничего не создавайте."
      ]
    },
    {
      "cell_type": "code",
      "execution_count": null,
      "metadata": {
        "colab": {
          "base_uri": "https://localhost:8080/"
        },
        "id": "XKlBZh4IwERR",
        "outputId": "bb151063-8097-47ed-b549-6aa4e593049a"
      },
      "outputs": [
        {
          "data": {
            "text/plain": [
              "[[User(id=5, age=38, social_contacts=242, gender='female'),\n",
              "  User(id=5, age=32, social_contacts=213, gender='female')]]"
            ]
          },
          "execution_count": 82,
          "metadata": {},
          "output_type": "execute_result"
        }
      ],
      "source": [
        "def MAP_INTERSECTION(_, row: NamedTuple):\n",
        "    yield (row.id, row)\n",
        "\n",
        "\n",
        "def REDUCE_INTERSECTION(row_id: int, rows: Iterator[NamedTuple]):\n",
        "    if len(rows) == 2:\n",
        "        yield rows\n",
        "\n",
        "\n",
        "def RECORDREADER():\n",
        "    return [(u.id, u) for u in input_collection_a + input_collection_b]\n",
        "\n",
        "\n",
        "output = MapReduce(RECORDREADER, MAP_INTERSECTION, REDUCE_INTERSECTION)\n",
        "output = list(output)\n",
        "output"
      ]
    },
    {
      "cell_type": "markdown",
      "metadata": {
        "id": "AVOpqoY3wE5k"
      },
      "source": [
        "### Difference (Разница)\n",
        "\n",
        "**The Map Function:** Для кортежа $t \\in R$, создайте пару $(t, R)$, и для кортежа $t \\in S$, создайте пару $(t, S)$. Задумка заключается в том, чтобы значение пары было именем отношения $R$ or $S$, которому принадлежит кортеж (а лучше, единичный бит, по которому можно два отношения различить $R$ or $S$), а не весь набор атрибутов отношения.\n",
        "\n",
        "**The Reduce Function:** Для каждого ключа $t$, если соответствующее значение является списком $[R]$, создайте пару $(t, t)$. В иных случаях не предпринимайте действий."
      ]
    },
    {
      "cell_type": "code",
      "execution_count": null,
      "metadata": {
        "colab": {
          "base_uri": "https://localhost:8080/"
        },
        "id": "QE_AC09lwZIZ",
        "outputId": "a1138d79-8541-4879-ba2c-f483b6531789"
      },
      "outputs": [
        {
          "data": {
            "text/plain": [
              "[User(id=1, age=54, social_contacts=125, gender='male'),\n",
              " User(id=2, age=21, social_contacts=123, gender='female'),\n",
              " User(id=3, age=21, social_contacts=63, gender='male'),\n",
              " User(id=4, age=19, social_contacts=725, gender='male'),\n",
              " User(id=5, age=38, social_contacts=242, gender='female')]"
            ]
          },
          "execution_count": 83,
          "metadata": {},
          "output_type": "execute_result"
        }
      ],
      "source": [
        "# Группировка по пользователям\n",
        "def MAP_DIFFERENCE(collection_id, user):\n",
        "    yield (user, collection_id)\n",
        "\n",
        "\n",
        "# Возвращает пользователей, входящих только в первую выборку (и не входящих во вторую)\n",
        "def REDUCE_DIFFERENCE(user, collections):\n",
        "    if collections == [0]:\n",
        "        yield (user)\n",
        "\n",
        "\n",
        "# На первом месте стоит номер выборки\n",
        "def RECORDREADER():\n",
        "    return [(0, a) for a in input_collection_a] + [(1, b) for b in input_collection_b]\n",
        "\n",
        "\n",
        "output = MapReduce(RECORDREADER, MAP_DIFFERENCE, REDUCE_DIFFERENCE)\n",
        "output = list(output)\n",
        "output"
      ]
    },
    {
      "cell_type": "markdown",
      "metadata": {
        "id": "j8I58V2VwhSm"
      },
      "source": [
        "### Natural Join\n",
        "\n",
        "**The Map Function:** Для каждого кортежа $(a, b)$ отношения $R$, создайте пару $(b,(R, a))$. Для каждого кортежа $(b, c)$ отношения $S$, создайте пару $(b,(S, c))$.\n",
        "\n",
        "**The Reduce Function:** Каждый ключ $b$ будет асоциирован со списком пар, которые принимают форму либо $(R, a)$, либо $(S, c)$. Создайте все пары, одни, состоящие из  первого компонента $R$, а другие, из первого компонента $S$, то есть $(R, a)$ и $(S, c)$. На выходе вы получаете последовательность пар ключ-значение из списков ключей и значений. Ключ не нужен. Каждое значение, это тройка $(a, b, c)$ такая, что $(R, a)$ и $(S, c)$ это принадлежат входному списку значений."
      ]
    },
    {
      "cell_type": "code",
      "execution_count": null,
      "metadata": {
        "colab": {
          "base_uri": "https://localhost:8080/"
        },
        "id": "yHiuuTctw86I",
        "outputId": "1102c452-3d8b-40ab-a818-c5800041e7a5"
      },
      "outputs": [
        {
          "data": {
            "text/plain": [
              "[(User(id=1, age=53, social_contacts=34, gender='male', city_id=1),\n",
              "  1,\n",
              "  City(id=1, name='Samara')),\n",
              " (User(id=2, age=23, social_contacts=22, gender='female', city_id=2),\n",
              "  2,\n",
              "  City(id=2, name='Moscow')),\n",
              " (User(id=3, age=19, social_contacts=234, gender='male', city_id=2),\n",
              "  2,\n",
              "  City(id=2, name='Moscow')),\n",
              " (User(id=4, age=12, social_contacts=764, gender='male', city_id=3),\n",
              "  3,\n",
              "  City(id=3, name='Samara')),\n",
              " (User(id=5, age=65, social_contacts=34, gender='female', city_id=4),\n",
              "  4,\n",
              "  City(id=4, name='SUUIIzran'))]"
            ]
          },
          "execution_count": 84,
          "metadata": {},
          "output_type": "execute_result"
        }
      ],
      "source": [
        "class User(NamedTuple):\n",
        "    id: int\n",
        "    age: str\n",
        "    social_contacts: int\n",
        "    gender: str\n",
        "    city_id: int\n",
        "\n",
        "\n",
        "users_collection = [\n",
        "    User(id=1, age=53, gender=\"male\", social_contacts=34, city_id=1),\n",
        "    User(id=2, age=23, gender=\"female\", social_contacts=22, city_id=2),\n",
        "    User(id=3, age=19, gender=\"male\", social_contacts=234, city_id=2),\n",
        "    User(id=4, age=12, gender=\"male\", social_contacts=764, city_id=3),\n",
        "    User(id=5, age=65, gender=\"female\", social_contacts=34, city_id=4),\n",
        "]\n",
        "\n",
        "\n",
        "class City(NamedTuple):\n",
        "    id: int\n",
        "    name: str\n",
        "\n",
        "\n",
        "cities_collection = [\n",
        "    City(id=1, name=\"Samara\"),\n",
        "    City(id=2, name=\"Moscow\"),\n",
        "    City(id=3, name=\"Samara\"),\n",
        "    City(id=4, name=\"SUUIIzran\"),\n",
        "    City(id=5, name=\"SPB\"),\n",
        "]\n",
        "\n",
        "def MAP_JOIN(city_id, row):\n",
        "    yield (city_id, row)\n",
        "\n",
        "\n",
        "def REDUCE_JOIN(city_id, rows):\n",
        "    users = []\n",
        "    city = None\n",
        "\n",
        "    for row in rows:\n",
        "        if type(row) is User:\n",
        "            users += [row]\n",
        "        else:\n",
        "            city = row\n",
        "\n",
        "    for row in rows:\n",
        "        if type(row) is User:\n",
        "            yield (row, row.city_id, city)\n",
        "\n",
        "\n",
        "def RECORDREADER():\n",
        "    return [(user.city_id, user) for user in users_collection] + [\n",
        "        (city.id, city) for city in cities_collection\n",
        "    ]\n",
        "\n",
        "\n",
        "output = MapReduce(RECORDREADER, MAP_JOIN, REDUCE_JOIN)\n",
        "output = list(output)\n",
        "joined_data = output\n",
        "joined_data"
      ]
    },
    {
      "cell_type": "markdown",
      "metadata": {
        "id": "kYdlr0YUxE27"
      },
      "source": [
        "### Grouping and Aggregation (Группировка и аггрегация)\n",
        "\n",
        "**The Map Function:** Для каждого кортежа $(a, b, c$) создайте пару $(a, b)$.\n",
        "\n",
        "**The Reduce Function:** Ключ представляет ту или иную группу. Примение аггрегирующую операцию $\\theta$ к списку значений $[b1, b2, . . . , bn]$ ассоциированных с ключом $a$. Возвращайте в выходной поток $(a, x)$, где $x$ результат применения  $\\theta$ к списку. Например, если $\\theta$ это $SUM$, тогда $x = b1 + b2 + · · · + bn$, а если $\\theta$ is $MAX$, тогда $x$ это максимальное из значений $b1, b2, . . . , bn$."
      ]
    },
    {
      "cell_type": "code",
      "execution_count": null,
      "metadata": {
        "colab": {
          "base_uri": "https://localhost:8080/"
        },
        "id": "MLPckfEGxico",
        "outputId": "ef7f1c7a-074b-4f25-f1ca-ad3481b9faf7"
      },
      "outputs": [
        {
          "data": {
            "text/plain": [
              "['city with id=1 has 1 user(s)',\n",
              " 'city with id=2 has 2 user(s)',\n",
              " 'city with id=3 has 1 user(s)',\n",
              " 'city with id=4 has 1 user(s)']"
            ]
          },
          "execution_count": 85,
          "metadata": {},
          "output_type": "execute_result"
        }
      ],
      "source": [
        "def MAP_GROUP(city_id, user, city):\n",
        "    yield (city_id, user)\n",
        "\n",
        "\n",
        "def REDUCE_GROUP(city_id, rows):\n",
        "    yield f\"city with id={city_id} has {len(rows)} user(s)\"\n",
        "\n",
        "\n",
        "def RECORDREADER():\n",
        "    return [(city_id, user, city) for user, city_id, city in joined_data]\n",
        "\n",
        "\n",
        "output = MapReduce(RECORDREADER, MAP_GROUP, REDUCE_GROUP)\n",
        "output = list(output)\n",
        "output\n"
      ]
    },
    {
      "cell_type": "markdown",
      "metadata": {
        "id": "03IffTEOJgOb"
      },
      "source": [
        "#"
      ]
    },
    {
      "cell_type": "markdown",
      "metadata": {
        "id": "GIo2t7nNxvA9"
      },
      "source": [
        "## Matrix multiplication (Перемножение матриц)\n",
        "\n",
        "Если у нас есть матрица $M$ с элементами $m_{ij}$ в строке $i$ и столбце $j$, и матрица $N$ с элементами $n_{jk}$ в строке $j$ и столбце $k$, тогда их произведение $P = MN$ есть матрица $P$ с элементами $p_{ik}$ в строке $i$ и столбце $k$, где\n",
        "\n",
        "$$p_{ik} =\\sum_{j} m_{ij}n_{jk}$$\n",
        "\n",
        "Необходимым требованием является одинаковое количество столбцов в $M$ и строк в $N$, чтобы операция суммирования по  $j$ была осмысленной. Мы можем размышлять о матрице, как об отношении с тремя атрибутами: номер строки, номер столбца, само значение. Таким образом матрица $M$ предстваляется как отношение $ M(I, J, V )$, с кортежами $(i, j, m_{ij})$, и, аналогично, матрица $N$ представляется как отношение $N(J, K, W)$, с кортежами $(j, k, n_{jk})$. Так как большие матрицы как правило разреженные (большинство значений равно 0), и так как мы можем нулевыми значениями пренебречь (не хранить), такое реляционное представление достаточно эффективно для больших матриц. Однако, возможно, что координаты $i$, $j$, и $k$ неявно закодированы в смещение позиции элемента относительно начала файла, вместо явного хранения. Тогда, функция Map (или Reader) должна быть разработана таким образом, чтобы реконструировать компоненты $I$, $J$, и $K$ кортежей из смещения.\n",
        "\n",
        "Произведение $MN$ это фактически join, за которым следуют группировка по ключу и аггрегация. Таким образом join отношений $M(I, J, V )$ и $N(J, K, W)$, имеющих общим только атрибут $J$, создаст кортежи $(i, j, k, v, w)$ из каждого кортежа $(i, j, v) \\in M$ и кортежа $(j, k, w) \\in N$. Такой 5 компонентный кортеж представляет пару элементов матрицы $(m_{ij} , n_{jk})$. Что нам хотелось бы получить на самом деле, это произведение этих элементов, то есть, 4 компонентный кортеж$(i, j, k, v \\times w)$, так как он представляет произведение $m_{ij}n_{jk}$. Мы представляем отношение как результат одной MapReduce операции, в которой мы можем произвести группировку и аггрегацию, с $I$ и $K$  атрибутами, по которым идёт группировка, и суммой  $V \\times W$.\n",
        "\n",
        "\n",
        "\n"
      ]
    },
    {
      "cell_type": "code",
      "execution_count": null,
      "metadata": {
        "id": "1MBkGaLAYVCt"
      },
      "outputs": [],
      "source": [
        "import numpy as np\n",
        "\n",
        "# MapReduce model\n",
        "def flatten(nested_iterable):\n",
        "    for iterable in nested_iterable:\n",
        "        for element in iterable:\n",
        "            yield element\n",
        "\n",
        "def groupbykey(iterable):\n",
        "    t = {}\n",
        "    for (k2, v2) in iterable:\n",
        "        t[k2] = t.get(k2, []) + [v2]\n",
        "    return t.items()\n",
        "\n",
        "def MapReduce(RECORDREADER, MAP, REDUCE):\n",
        "    return flatten(map(lambda x: REDUCE(*x), groupbykey(flatten(map(lambda x: MAP(x[0], x[1]), RECORDREADER())))))\n"
      ]
    },
    {
      "cell_type": "markdown",
      "metadata": {
        "id": "sMspsOT0ZB35"
      },
      "source": [
        "Реализуйте перемножение матриц с использованием модельного кода MapReduce для одной машины в случае, когда одна матрица хранится в памяти, а другая генерируется RECORDREADER-ом."
      ]
    },
    {
      "cell_type": "code",
      "execution_count": null,
      "metadata": {
        "colab": {
          "base_uri": "https://localhost:8080/"
        },
        "id": "psP1XekbsEjS",
        "outputId": "c0cc1385-9a35-4afb-93dc-f35922947935"
      },
      "outputs": [
        {
          "name": "stdout",
          "output_type": "stream",
          "text": [
            "[[1.04843592 0.65513465 1.39534835 0.97491968 0.84008188 1.63965381\n",
            "  0.93735901 1.17113676 0.98452649 1.25596932 1.17075138 1.61672209\n",
            "  1.38389525 1.24765548 1.24764461 1.34333702 0.71723039 1.21104307\n",
            "  1.16266156 1.02402216 0.33484063 0.85142617 1.58648721 0.85627315\n",
            "  1.1399746  1.27003182 1.17958037 0.95317497 0.8701307  0.52890654\n",
            "  0.98637407 0.94712714 0.59331385 0.74190439 0.77863214 0.90542808\n",
            "  0.85164245 0.53733918 0.83860983 0.73334779]\n",
            " [1.07713932 0.85797499 1.49469878 1.13573797 1.13314205 1.8433708\n",
            "  0.84395318 1.11623394 0.91920613 1.46912644 1.43284925 1.75522412\n",
            "  1.57143638 1.38277145 1.40002174 1.46150327 0.66563041 1.29872354\n",
            "  1.4623777  1.20279783 0.41266769 1.12129568 1.80884077 1.11033576\n",
            "  1.12778723 1.35941673 1.15874172 0.90554975 0.99942787 0.61726626\n",
            "  0.9666419  1.21671171 0.74157428 0.79980434 1.04237413 1.21365559\n",
            "  1.02893525 0.60203712 0.77876938 0.99899829]]\n"
          ]
        }
      ],
      "source": [
        "import numpy as np\n",
        "\n",
        "I = 2\n",
        "J = 3\n",
        "K = 2 * 10\n",
        "small_mat = np.random.rand(I, J)\n",
        "big_mat = np.random.rand(J, K)\n",
        "\n",
        "\n",
        "def record_reader():\n",
        "    for j in range(big_mat.shape[0]):\n",
        "        for k in range(big_mat.shape[1]):\n",
        "            yield ((j, k), big_mat[j, k])\n",
        "\n",
        "\n",
        "def mapper(k1, v1):\n",
        "    j, k = k1\n",
        "    w = v1\n",
        "\n",
        "    for i in range(I):\n",
        "        k2 = (i, k)\n",
        "        v2 = small_mat[i, j] * w\n",
        "        yield (k2, v2)\n",
        "\n",
        "\n",
        "def reducer(key, values):\n",
        "    i, k = key\n",
        "\n",
        "    k3 = (i, k)\n",
        "\n",
        "    v3 = sum(values)  # Используем встроенную функцию sum()\n",
        "\n",
        "    yield (k3, v3)\n",
        "\n",
        "\n",
        "def group_by_key(items):\n",
        "    groups = {}\n",
        "    for key, value in items:\n",
        "        if key not in groups:\n",
        "            groups[key] = []\n",
        "        groups[key].append(value)\n",
        "    return groups.items()\n",
        "\n",
        "\n",
        "def flatten(list_of_lists):\n",
        "    return [item for sublist in list_of_lists for item in sublist]\n",
        "\n",
        "\n",
        "# Map phase\n",
        "map_output = list(flatten(map(lambda item: list(mapper(item[0], item[1])), record_reader())))\n",
        "\n",
        "# Shuffle phase\n",
        "shuffle_output = list(group_by_key(map_output))\n",
        "\n",
        "# Reduce phase\n",
        "reduce_output = list(flatten(map(lambda item: list(reducer(item[0], item[1])), shuffle_output)))\n",
        "\n",
        "# Create result matrix\n",
        "result_matrix = np.zeros((I, K))\n",
        "for (i, k), v3 in reduce_output:\n",
        "    result_matrix[i, k] = v3\n",
        "\n",
        "print(result_matrix)"
      ]
    },
    {
      "cell_type": "markdown",
      "metadata": {
        "id": "rnt306LHhHrm"
      },
      "source": [
        "Проверьте своё решение"
      ]
    },
    {
      "cell_type": "code",
      "execution_count": null,
      "metadata": {
        "colab": {
          "base_uri": "https://localhost:8080/"
        },
        "id": "Ewy_ZNYqW5a2",
        "outputId": "92fe14a1-71fe-464e-d80f-52026c174ab9"
      },
      "outputs": [
        {
          "data": {
            "text/plain": [
              "True"
            ]
          },
          "execution_count": 93,
          "metadata": {},
          "output_type": "execute_result"
        }
      ],
      "source": [
        "# CHECK THE SOLUTION\n",
        "reference_solution = np.matmul(small_mat, big_mat)\n",
        "solution = MapReduce(record_reader, mapper, reducer)\n",
        "\n",
        "def asmatrix(reduce_output):\n",
        "  reduce_output = list(reduce_output)\n",
        "  I = max(i for ((i,k), vw) in reduce_output)+1\n",
        "  K = max(k for ((i,k), vw) in reduce_output)+1\n",
        "  mat = np.empty(shape=(I,K))\n",
        "  for ((i,k), vw) in reduce_output:\n",
        "    mat[i,k] = vw\n",
        "  return mat\n",
        "\n",
        "np.allclose(reference_solution, asmatrix(solution)) # should return true"
      ]
    },
    {
      "cell_type": "code",
      "execution_count": null,
      "metadata": {
        "colab": {
          "base_uri": "https://localhost:8080/"
        },
        "id": "TK7v4CEcfxqf",
        "outputId": "8452ce57-b744-461b-cd0e-7969842e209d"
      },
      "outputs": [
        {
          "data": {
            "text/plain": [
              "1"
            ]
          },
          "execution_count": 95,
          "metadata": {},
          "output_type": "execute_result"
        }
      ],
      "source": [
        "reduce_output = list(MapReduce(record_reader, mapper, reducer))\n",
        "max(i for ((i,k), vw) in reduce_output)"
      ]
    },
    {
      "cell_type": "markdown",
      "metadata": {
        "id": "i4yyg3kOZqJJ"
      },
      "source": [
        "Реализуйте перемножение матриц  с использованием модельного кода MapReduce для одной машины в случае, когда обе матрицы генерируются в RECORDREADER. Например, сначала одна, а потом другая."
      ]
    },
    {
      "cell_type": "code",
      "execution_count": null,
      "metadata": {
        "colab": {
          "base_uri": "https://localhost:8080/"
        },
        "id": "3B7rIAJCaHZq",
        "outputId": "ef8c006d-7825-4e1e-daa5-de18702baf6d"
      },
      "outputs": [
        {
          "name": "stdout",
          "output_type": "stream",
          "text": [
            "[[0.25526613 0.54408154 0.26173409 0.68483773 0.63372258 0.70796781\n",
            "  0.46867499 0.64258523 0.12464453 0.24662603 0.64201074 0.7371212\n",
            "  0.10063331 0.12302721 0.44093657 0.09719575 0.05680841 0.79239238\n",
            "  0.63163864 0.28155107]\n",
            " [0.3220669  0.83202495 0.37602716 0.56146246 0.82135845 0.64421977\n",
            "  0.50256695 0.45525128 0.15421761 0.40358992 0.44488703 0.70641798\n",
            "  0.22854104 0.27533156 0.70761935 0.10700476 0.08294573 0.62730839\n",
            "  0.59699153 0.68372867]]\n"
          ]
        }
      ],
      "source": [
        "import numpy as np\n",
        "\n",
        "I = 2\n",
        "J = 3\n",
        "K = 2 * 10\n",
        "small_mat = np.random.rand(I, J)\n",
        "big_mat = np.random.rand(J, K)\n",
        "\n",
        "def record_reader():\n",
        "    \"\"\"Генерация пар элементов матриц для MapReduce.\"\"\"\n",
        "    for i in range(I):\n",
        "        for j in range(J):\n",
        "            for k in range(K):\n",
        "                yield (((i, j), small_mat[i, j]), ((j, k), big_mat[j, k]))\n",
        "\n",
        "def mapper(element1, element2):\n",
        "    \"\"\"Функция Map: перемножение элементов и генерация пар (ключ, значение).\"\"\"\n",
        "    (i, j), v1 = element1\n",
        "    (j, k), v2 = element2\n",
        "    yield ((i, k), v1 * v2)\n",
        "\n",
        "def reducer(key, values):\n",
        "    \"\"\"Функция Reduce: суммирование произведений для получения элемента матрицы.\"\"\"\n",
        "    i, k = key\n",
        "    yield ((i, k), sum(values))  # Используем встроенную функцию sum()\n",
        "\n",
        "def group_by_key(items):\n",
        "    \"\"\"Группировка элементов по ключу.\"\"\"\n",
        "    groups = {}\n",
        "    for key, value in items:\n",
        "        if key not in groups:\n",
        "            groups[key] = []\n",
        "        groups[key].append(value)\n",
        "    return groups.items()\n",
        "\n",
        "def flatten(list_of_lists):\n",
        "    \"\"\"Функция для \"расплющивания\" списка списков.\"\"\"\n",
        "    return [item for sublist in list_of_lists for item in sublist]\n",
        "\n",
        "def map_reduce():\n",
        "    \"\"\"Функция для запуска MapReduce.\"\"\"\n",
        "    # Map phase\n",
        "    map_output = list(flatten(map(lambda item: list(mapper(item[0], item[1])), record_reader())))\n",
        "\n",
        "    # Shuffle phase\n",
        "    shuffle_output = list(group_by_key(map_output))\n",
        "\n",
        "    # Reduce phase\n",
        "    reduce_output = list(flatten(map(lambda item: list(reducer(item[0], item[1])), shuffle_output)))\n",
        "\n",
        "    # Создание результирующей матрицы\n",
        "    result_matrix = np.zeros((I, K))\n",
        "    for (i, k), v3 in reduce_output:\n",
        "        result_matrix[i, k] = v3\n",
        "    return result_matrix\n",
        "\n",
        "# Запуск MapReduce и вывод результата\n",
        "result_matrix = map_reduce()\n",
        "print(result_matrix)"
      ]
    },
    {
      "cell_type": "markdown",
      "metadata": {
        "id": "mXyzQi1DaIwo"
      },
      "source": [
        "Реализуйте перемножение матриц с использованием модельного кода MapReduce Distributed, когда каждая матрица генерируется в своём RECORDREADER."
      ]
    },
    {
      "cell_type": "code",
      "execution_count": null,
      "metadata": {
        "colab": {
          "base_uri": "https://localhost:8080/"
        },
        "id": "TDM_s78Rb5eR",
        "outputId": "fe4871ea-3560-4307-8ce6-593968f2d850"
      },
      "outputs": [
        {
          "name": "stdout",
          "output_type": "stream",
          "text": [
            "[[1.68558829 1.18988123 1.47123115 1.15372909 1.15937793 1.42268992\n",
            "  0.69690222 1.10304897 1.34331761 0.52967067 1.36110252 1.20571905\n",
            "  1.1419233  0.93510027 1.67862853 0.93282339 0.95870768 1.11804185\n",
            "  0.93797935 0.89218879 1.53472514 1.41268974 1.2429247  1.21425579\n",
            "  0.49787852 1.1059188  1.41549145 1.21638405 1.23424365 0.36708492\n",
            "  1.43771313 0.92303833 1.91821538 1.31101617 0.89938842 0.90007177\n",
            "  1.09607282 0.80995146 1.25166675 0.87199719]\n",
            " [0.94316092 0.55881671 0.64798935 0.50954323 0.70019891 0.69003\n",
            "  0.35622557 0.77645309 0.79828071 0.34912151 0.81070049 0.77554901\n",
            "  0.51957326 0.69063495 0.77497784 0.35049636 0.37051803 0.71797422\n",
            "  0.39990921 0.2966627  0.6155372  0.84347311 0.78133495 0.70347931\n",
            "  0.31090984 0.69362843 0.75637434 0.7676824  0.48323669 0.12877851\n",
            "  0.78591622 0.53097219 1.00173728 0.43163854 0.4359571  0.61270758\n",
            "  0.3502672  0.38383032 0.69961422 0.51192258]]\n"
          ]
        }
      ],
      "source": [
        "import numpy as np\n",
        "\n",
        "I = 2\n",
        "J = 3\n",
        "K = 4 * 10\n",
        "small_mat = np.random.rand(I, J)\n",
        "big_mat = np.random.rand(J, K)\n",
        "maps = 2\n",
        "reducers = 2\n",
        "\n",
        "def input_format():\n",
        "    \"\"\"Генерация данных для MapReduce с разделением на узлы.\"\"\"\n",
        "    split_size = int(np.ceil(I / maps))\n",
        "    for i in range(0, I, split_size):\n",
        "        yield record_reader(range(i, min(i + split_size, I)))  # Ограничиваем верхнюю границу\n",
        "\n",
        "def record_reader(i_range):\n",
        "    \"\"\"Генерация пар элементов матриц для MapReduce.\"\"\"\n",
        "    for i in i_range:\n",
        "        for j in range(J):\n",
        "            for k in range(K):\n",
        "                yield (((i, j), small_mat[i, j]), ((j, k), big_mat[j, k]))\n",
        "\n",
        "def mapper(element1, element2):\n",
        "    \"\"\"Функция Map: перемножение элементов и генерация пар (ключ, значение).\"\"\"\n",
        "    (i, j), v1 = element1\n",
        "    (j, k), v2 = element2\n",
        "    yield ((i, k), v1 * v2)\n",
        "\n",
        "def reducer(key, values):\n",
        "    \"\"\"Функция Reduce: суммирование произведений для получения элемента матрицы.\"\"\"\n",
        "    i, k = key\n",
        "    yield ((i, k), sum(values))  # Используем встроенную функцию sum()\n",
        "\n",
        "def group_by_key(items):\n",
        "    \"\"\"Группировка элементов по ключу.\"\"\"\n",
        "    groups = {}\n",
        "    for key, value in items:\n",
        "        if key not in groups:\n",
        "            groups[key] = []\n",
        "        groups[key].append(value)\n",
        "    return groups.items()\n",
        "\n",
        "def flatten(list_of_lists):\n",
        "    \"\"\"Функция для \"расплющивания\" списка списков.\"\"\"\n",
        "    return [item for sublist in list_of_lists for item in sublist]\n",
        "\n",
        "def map_reduce_distributed(input_format_func, map_func, reduce_func, combiner_func=None):\n",
        "    \"\"\"Функция для запуска распределенного MapReduce.\"\"\"\n",
        "    partitioned_output = []\n",
        "    for partition_id, record_reader_instance in enumerate(input_format_func()):\n",
        "        map_output = list(flatten(map(lambda item: list(map_func(item[0], item[1])), record_reader_instance)))\n",
        "\n",
        "        if combiner_func:\n",
        "            shuffle_output = list(group_by_key(map_output))\n",
        "            combined_output = list(flatten(map(lambda item: list(combiner_func(item[0], item[1])), shuffle_output)))\n",
        "            partitioned_output.append((partition_id, combined_output))\n",
        "        else:\n",
        "            partitioned_output.append((partition_id, map_output))  # Не используем combiner\n",
        "\n",
        "    # Shuffle phase (имитация для распределенной обработки)\n",
        "    all_map_output = list(flatten([partition[1] for partition in partitioned_output]))\n",
        "    shuffle_output = list(group_by_key(all_map_output))\n",
        "\n",
        "    reduce_output = list(flatten(map(lambda item: list(reduce_func(item[0], item[1])), shuffle_output)))\n",
        "\n",
        "    return reduce_output\n",
        "\n",
        "\n",
        "# Запуск MapReduce и вывод результата\n",
        "partitioned_output = map_reduce_distributed(input_format, mapper, reducer)\n",
        "\n",
        "result_matrix = np.zeros((I, K))\n",
        "for (i, k), v3 in partitioned_output:\n",
        "    result_matrix[i, k] = v3\n",
        "\n",
        "print(result_matrix)\n",
        "# np.allclose(reference_solution, result_matrix)  # Раскомментируйте для проверки, если reference_solution определен"
      ]
    },
    {
      "cell_type": "markdown",
      "metadata": {
        "id": "ZuSA2P9Db6UM"
      },
      "source": [
        "Обобщите предыдущее решение на случай, когда каждая матрица генерируется несколькими RECORDREADER-ами, и проверьте его работоспособность. Будет ли работать решение, если RECORDREADER-ы будут генерировать случайное подмножество элементов матрицы?"
      ]
    },
    {
      "cell_type": "code",
      "execution_count": null,
      "metadata": {
        "colab": {
          "base_uri": "https://localhost:8080/"
        },
        "id": "ehN0FqRDcwU5",
        "outputId": "e5b101cf-5f8b-4e67-b77b-772e58e944eb"
      },
      "outputs": [
        {
          "name": "stdout",
          "output_type": "stream",
          "text": [
            "[[1.20928633 1.48913242 1.01647125 0.54272289 0.35472154 0.42960992\n",
            "  0.67871319 0.74970423 1.19475358 0.54879002 0.41721122 0.68859295\n",
            "  1.29479623 0.26887045 0.41914725 0.85973628 0.86039432 0.66151178\n",
            "  1.33251781 0.96466454 1.41076858 1.15445722 0.75228948 0.34249112\n",
            "  0.78348978 1.4819058  1.10261813 0.23037401 0.55177301 1.34699128\n",
            "  0.83621013 1.22909298 0.42935773 1.05944498 0.7789716  0.96372675\n",
            "  0.85899563 0.51371641 0.74555587 0.80626904]\n",
            " [0.60556172 0.9232288  0.6858455  0.57615961 0.3875836  0.26883014\n",
            "  0.36355993 0.6385571  0.64375302 0.19683835 0.37364157 0.63012623\n",
            "  0.83554501 0.11784201 0.49987115 0.71561548 0.33621963 0.58211259\n",
            "  0.90569154 0.86515976 0.7656528  0.63287319 0.86149852 0.64207519\n",
            "  0.32992228 0.96957608 0.88552963 0.31471394 0.47666661 0.86604119\n",
            "  0.49669243 0.60386743 0.20071638 0.54032538 0.54365326 0.33208972\n",
            "  0.52929942 0.35337076 0.51207101 0.57506565]]\n",
            "True\n"
          ]
        }
      ],
      "source": [
        "import numpy as np\n",
        "\n",
        "I = 2\n",
        "J = 3\n",
        "K = 4 * 10\n",
        "small_mat = np.random.rand(I, J)\n",
        "big_mat = np.random.rand(J, K)\n",
        "reference_solution = np.matmul(small_mat, big_mat)\n",
        "maps = 3\n",
        "reducers = 2\n",
        "\n",
        "\n",
        "def input_format():\n",
        "    \"\"\"Генерация данных для MapReduce с разделением на узлы.\"\"\"\n",
        "    first_mat = []\n",
        "    for i in range(small_mat.shape[0]):\n",
        "        for j in range(small_mat.shape[1]):\n",
        "            first_mat.append(((0, i, j), small_mat[i, j]))  # Первая матрица\n",
        "\n",
        "    split_size = int(np.ceil(len(first_mat) / maps))\n",
        "    for i in range(0, len(first_mat), split_size):\n",
        "        yield first_mat[i:i + split_size]\n",
        "\n",
        "    second_mat = []\n",
        "    for j in range(big_mat.shape[0]):\n",
        "        for k in range(big_mat.shape[1]):\n",
        "            second_mat.append(((1, j, k), big_mat[j, k]))  # Вторая матрица\n",
        "\n",
        "    split_size = int(np.ceil(len(second_mat) / maps))\n",
        "    for i in range(0, len(second_mat), split_size):\n",
        "        yield second_mat[i:i + split_size]\n",
        "\n",
        "\n",
        "def map_join(k1, v1):\n",
        "    \"\"\"Функция Map для соединения матриц.\"\"\"\n",
        "    mat_num, i, j = k1\n",
        "    w = v1\n",
        "    if mat_num == 0:\n",
        "        yield (j, (mat_num, i, w))\n",
        "    else:\n",
        "        yield (i, (mat_num, j, w))\n",
        "\n",
        "\n",
        "def reduce_join(key, values):\n",
        "    \"\"\"Функция Reduce для соединения матриц.\"\"\"\n",
        "    from_first_mat = [v for v in values if v[0] == 0]\n",
        "    from_second_mat = [v for v in values if v[0] == 1]\n",
        "    for f in from_first_mat:\n",
        "        for s in from_second_mat:\n",
        "            yield ((f[1], s[1]), f[2] * s[2])\n",
        "\n",
        "\n",
        "def map_mul(k1, v1):\n",
        "    \"\"\"Функция Map для умножения.\"\"\"\n",
        "    yield (k1, v1)\n",
        "\n",
        "\n",
        "def reduce_mul(key, values):\n",
        "    \"\"\"Функция Reduce для умножения.\"\"\"\n",
        "    yield (key, sum(values))\n",
        "\n",
        "\n",
        "def group_by_key(items):\n",
        "    \"\"\"Группировка элементов по ключу.\"\"\"\n",
        "    groups = {}\n",
        "    for key, value in items:\n",
        "        if key not in groups:\n",
        "            groups[key] = []\n",
        "        groups[key].append(value)\n",
        "    return groups.items()\n",
        "\n",
        "\n",
        "def flatten(list_of_lists):\n",
        "    \"\"\"Функция для \"расплющивания\" списка списков.\"\"\"\n",
        "    return [item for sublist in list_of_lists for item in sublist]\n",
        "\n",
        "\n",
        "def map_reduce_distributed(input_format_func, map_func, reduce_func, combiner_func=None):\n",
        "    \"\"\"Функция для запуска распределенного MapReduce.\"\"\"\n",
        "    partitioned_output = []\n",
        "    for partition_id, data_partition in enumerate(input_format_func()):\n",
        "        map_output = list(flatten(map(lambda item: list(map_func(item[0], item[1])), data_partition)))\n",
        "\n",
        "        if combiner_func:\n",
        "            shuffle_output = list(group_by_key(map_output))\n",
        "            combined_output = list(flatten(map(lambda item: list(combiner_func(item[0], item[1])), shuffle_output)))\n",
        "            partitioned_output.append((partition_id, combined_output))\n",
        "        else:\n",
        "            partitioned_output.append((partition_id, map_output))\n",
        "\n",
        "    # Shuffle phase (имитация для распределенной обработки)\n",
        "    all_map_output = list(flatten([partition[1] for partition in partitioned_output]))\n",
        "    shuffle_output = list(group_by_key(all_map_output))\n",
        "\n",
        "    reduce_output = list(flatten(map(lambda item: list(reduce_func(item[0], item[1])), shuffle_output)))\n",
        "\n",
        "    return reduce_output\n",
        "\n",
        "\n",
        "# Запуск MapReduce и вывод результата\n",
        "joined_data = map_reduce_distributed(input_format, map_join, reduce_join)\n",
        "mul_output = map_reduce_distributed(lambda: [joined_data], map_mul, reduce_mul) # Передаем joined_data как входные данные\n",
        "\n",
        "result = {}\n",
        "for k, v in mul_output:\n",
        "    result[k] = v\n",
        "\n",
        "result_matrix = np.zeros((I, K))\n",
        "for (i, k), v in result.items():\n",
        "    result_matrix[i, k] = v\n",
        "\n",
        "print(result_matrix)\n",
        "print(np.allclose(reference_solution, result_matrix))"
      ]
    }
  ],
  "metadata": {
    "colab": {
      "include_colab_link": true,
      "provenance": []
    },
    "kernelspec": {
      "display_name": "Python 3",
      "name": "python3"
    }
  },
  "nbformat": 4,
  "nbformat_minor": 0
}
