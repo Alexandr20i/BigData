{
  "nbformat": 4,
  "nbformat_minor": 0,
  "metadata": {
    "colab": {
      "provenance": []
    },
    "kernelspec": {
      "name": "python3",
      "display_name": "Python 3"
    },
    "language_info": {
      "name": "python"
    }
  },
  "cells": [
    {
      "cell_type": "code",
      "execution_count": 1,
      "metadata": {
        "id": "Xol5OTtwZ7Wh"
      },
      "outputs": [],
      "source": [
        "from datetime import datetime\n",
        "from pyspark.sql.types import StructType, StructField, StringType, DateType\n",
        "from pyspark.sql.functions import asc, desc, rank, col\n",
        "from pyspark.sql.window import Window"
      ]
    },
    {
      "cell_type": "code",
      "source": [
        "from pyspark.sql import SparkSession\n",
        "import os\n",
        "\n",
        "os.environ['PYSPARK_SUBMIT_ARGS'] = '--packages com.databricks:spark-xml_2.12:0.13.0 pyspark-shell'\n",
        "\n",
        "spark_session = SparkSession.builder.appName(\"Lab2\").getOrCreate()\n",
        "sc = spark_session._sc\n",
        "spark_session"
      ],
      "metadata": {
        "colab": {
          "base_uri": "https://localhost:8080/",
          "height": 211
        },
        "id": "mi_j37KwaelK",
        "outputId": "37043a13-3fae-495e-bdd5-23b1192cf93e"
      },
      "execution_count": 2,
      "outputs": [
        {
          "output_type": "execute_result",
          "data": {
            "text/plain": [
              "<pyspark.sql.session.SparkSession at 0x7eec4b58cd50>"
            ],
            "text/html": [
              "\n",
              "            <div>\n",
              "                <p><b>SparkSession - in-memory</b></p>\n",
              "                \n",
              "        <div>\n",
              "            <p><b>SparkContext</b></p>\n",
              "\n",
              "            <p><a href=\"http://282783b74e63:4040\">Spark UI</a></p>\n",
              "\n",
              "            <dl>\n",
              "              <dt>Version</dt>\n",
              "                <dd><code>v3.5.5</code></dd>\n",
              "              <dt>Master</dt>\n",
              "                <dd><code>local[*]</code></dd>\n",
              "              <dt>AppName</dt>\n",
              "                <dd><code>Lab2</code></dd>\n",
              "            </dl>\n",
              "        </div>\n",
              "        \n",
              "            </div>\n",
              "        "
            ]
          },
          "metadata": {},
          "execution_count": 2
        }
      ]
    },
    {
      "cell_type": "code",
      "source": [
        "progLangSchema = StructType([\n",
        "    StructField(\"Language\", StringType(), False),\n",
        "    StructField(\"Url_language\", StringType(), False),\n",
        "])\n",
        "dfProgLangs = spark_session.read.csv(\"programming-languages.csv\", schema=progLangSchema)\n",
        "dfProgLangs.head()"
      ],
      "metadata": {
        "colab": {
          "base_uri": "https://localhost:8080/"
        },
        "id": "c_ijppE4ajd4",
        "outputId": "7b674969-5190-43d7-c40d-d5c7e92a0c48"
      },
      "execution_count": 3,
      "outputs": [
        {
          "output_type": "execute_result",
          "data": {
            "text/plain": [
              "Row(Language='name', Url_language='wikipedia_url')"
            ]
          },
          "metadata": {},
          "execution_count": 3
        }
      ]
    },
    {
      "cell_type": "code",
      "source": [
        "firstRow = dfProgLangs.rdd.first()\n",
        "progLangsList = dfProgLangs.rdd\\\n",
        "    .filter(lambda x: x != firstRow)\\\n",
        "    .map(lambda x: x[0])\\\n",
        "    .collect()\n",
        "progLangsList[:10]"
      ],
      "metadata": {
        "colab": {
          "base_uri": "https://localhost:8080/"
        },
        "id": "6ua-BYw7au1G",
        "outputId": "d89179b9-77e9-4868-ae5e-3be8a5e0d01c"
      },
      "execution_count": 4,
      "outputs": [
        {
          "output_type": "execute_result",
          "data": {
            "text/plain": [
              "['A# .NET',\n",
              " 'A# (Axiom)',\n",
              " 'A-0 System',\n",
              " 'A+',\n",
              " 'A++',\n",
              " 'ABAP',\n",
              " 'ABC',\n",
              " 'ABC ALGOL',\n",
              " 'ABSET',\n",
              " 'ABSYS']"
            ]
          },
          "metadata": {},
          "execution_count": 4
        }
      ]
    },
    {
      "cell_type": "code",
      "source": [
        "dfPostsSample = spark_session.read.format(\"xml\").options(rowTag=\"row\").load('posts_sample.xml')\n",
        "print(dfPostsSample)\n",
        "print(\"\\n\\n\")\n",
        "print(dfPostsSample.first())"
      ],
      "metadata": {
        "colab": {
          "base_uri": "https://localhost:8080/"
        },
        "id": "XCYltsKjaxLz",
        "outputId": "22cad58a-8846-4810-ebb4-188afd96d420"
      },
      "execution_count": 6,
      "outputs": [
        {
          "output_type": "stream",
          "name": "stdout",
          "text": [
            "DataFrame[_AcceptedAnswerId: bigint, _AnswerCount: bigint, _Body: string, _ClosedDate: timestamp, _CommentCount: bigint, _CommunityOwnedDate: timestamp, _CreationDate: timestamp, _FavoriteCount: bigint, _Id: bigint, _LastActivityDate: timestamp, _LastEditDate: timestamp, _LastEditorDisplayName: string, _LastEditorUserId: bigint, _OwnerDisplayName: string, _OwnerUserId: bigint, _ParentId: bigint, _PostTypeId: bigint, _Score: bigint, _Tags: string, _Title: string, _ViewCount: bigint]\n",
            "\n",
            "\n",
            "\n",
            "Row(_AcceptedAnswerId=7, _AnswerCount=13, _Body=\"<p>I want to use a track-bar to change a form's opacity.</p>\\n\\n<p>This is my code:</p>\\n\\n<pre><code>decimal trans = trackBar1.Value / 5000;\\nthis.Opacity = trans;\\n</code></pre>\\n\\n<p>When I build the application, it gives the following error:</p>\\n\\n<blockquote>\\n  <p>Cannot implicitly convert type <code>'decimal'</code> to <code>'double'</code></p>\\n</blockquote>\\n\\n<p>I tried using <code>trans</code> and <code>double</code> but then the control doesn't work. This code worked fine in a past VB.NET project.</p>\\n\", _ClosedDate=None, _CommentCount=2, _CommunityOwnedDate=datetime.datetime(2012, 10, 31, 16, 42, 47, 213000), _CreationDate=datetime.datetime(2008, 7, 31, 21, 42, 52, 667000), _FavoriteCount=48, _Id=4, _LastActivityDate=datetime.datetime(2019, 7, 19, 1, 39, 54, 173000), _LastEditDate=datetime.datetime(2019, 7, 19, 1, 39, 54, 173000), _LastEditorDisplayName='Rich B', _LastEditorUserId=3641067, _OwnerDisplayName=None, _OwnerUserId=8, _ParentId=None, _PostTypeId=1, _Score=630, _Tags='<c#><floating-point><type-conversion><double><decimal>', _Title='Convert Decimal to Double?', _ViewCount=42817)\n"
          ]
        }
      ]
    },
    {
      "cell_type": "code",
      "source": [
        "def DefineLanguage(row):\n",
        "    languageTag = None\n",
        "    for language in progLangsList:\n",
        "        if '<' + language.upper() + '>' in row._Tags.upper():\n",
        "            languageTag = language\n",
        "            break\n",
        "    if languageTag is not None:\n",
        "        return (row._Id, languageTag, row._CreationDate.year, row._ViewCount)\n",
        "\n",
        "def IsDateInRange(row):\n",
        "    leftBorder = datetime(year=2010, month=1, day=1)\n",
        "    rightBorder = datetime(year=2020, month=12, day=31)\n",
        "    return row._CreationDate >= leftBorder and row._CreationDate <= rightBorder"
      ],
      "metadata": {
        "id": "WHy70B2SbcyO"
      },
      "execution_count": 7,
      "outputs": []
    },
    {
      "cell_type": "code",
      "source": [
        "topLanguagesPerYear = dfPostsSample.rdd.filter(lambda row: row._Tags is not None and IsDateInRange(row))\\\n",
        "    .map(DefineLanguage)\\\n",
        "    .filter(lambda row: row is not None)\\\n",
        "    .keyBy(lambda row: (row[2], row[1]))\\\n",
        "    .map(lambda row: ((row[0][0], row[0][1]), row[1][3]))\\\n",
        "    .reduceByKey(lambda a, b: a + b)\\\n",
        "    .map(lambda row: (row[0][0], row[0][1], row[1]))\\\n",
        "    .toDF(('Year', 'Language', 'Count'))\n",
        "\n",
        "topLanguagesPerYear.show()"
      ],
      "metadata": {
        "colab": {
          "base_uri": "https://localhost:8080/"
        },
        "id": "mJmsp09mblBb",
        "outputId": "52048787-5a87-495b-ba6f-1f3364540c63"
      },
      "execution_count": 8,
      "outputs": [
        {
          "output_type": "stream",
          "name": "stdout",
          "text": [
            "+----+------------+-------+\n",
            "|Year|    Language|  Count|\n",
            "+----+------------+-------+\n",
            "|2010|        Java| 548916|\n",
            "|2010|         PHP|1178114|\n",
            "|2010|        Ruby|  76001|\n",
            "|2010|      Python|  49372|\n",
            "|2010| Objective-C|  79490|\n",
            "|2010|           R|  11087|\n",
            "|2011|           C|  85002|\n",
            "|2011|  JavaScript| 594941|\n",
            "|2011|        Perl|   9236|\n",
            "|2011|        Bash|  18351|\n",
            "|2013|  JavaScript| 412170|\n",
            "|2013|ActionScript|     30|\n",
            "|2013|        Bash|  22416|\n",
            "|2013|      Groovy|   1640|\n",
            "|2013|           C|  13887|\n",
            "|2014|         PHP| 167346|\n",
            "|2014|        Java| 369513|\n",
            "|2014| Objective-C|  44321|\n",
            "|2014|        Ruby|  17655|\n",
            "|2014|      Python|  92749|\n",
            "+----+------------+-------+\n",
            "only showing top 20 rows\n",
            "\n"
          ]
        }
      ]
    },
    {
      "cell_type": "code",
      "source": [
        "window_spec = Window.partitionBy(\"Year\").orderBy(topLanguagesPerYear[\"Count\"].desc())\n",
        "topLanguagesRanks = topLanguagesPerYear.withColumn(\"rank\", rank().over(window_spec))\n",
        "result = topLanguagesRanks.filter(topLanguagesRanks[\"rank\"] <= 10).drop(col(\"rank\"))\n",
        "result.show()"
      ],
      "metadata": {
        "colab": {
          "base_uri": "https://localhost:8080/"
        },
        "id": "U7yBA0gTboYy",
        "outputId": "7eae6318-811e-4b1f-9e60-b6dc4b322795"
      },
      "execution_count": 9,
      "outputs": [
        {
          "output_type": "stream",
          "name": "stdout",
          "text": [
            "+----+-----------+-------+\n",
            "|Year|   Language|  Count|\n",
            "+----+-----------+-------+\n",
            "|2010|        PHP|1178114|\n",
            "|2010|       Java| 548916|\n",
            "|2010| JavaScript| 293421|\n",
            "|2010|Objective-C|  79490|\n",
            "|2010|       Ruby|  76001|\n",
            "|2010|          C|  66587|\n",
            "|2010|     MATLAB|  51865|\n",
            "|2010|     Python|  49372|\n",
            "|2010|AppleScript|  31320|\n",
            "|2010|     Delphi|  11817|\n",
            "|2011| JavaScript| 594941|\n",
            "|2011|       Java| 196931|\n",
            "|2011|     Python| 116678|\n",
            "|2011|          C|  85002|\n",
            "|2011|        PHP|  65104|\n",
            "|2011|Objective-C|  45901|\n",
            "|2011|       Bash|  18351|\n",
            "|2011|          R|  12764|\n",
            "|2011|       Ruby|  12647|\n",
            "|2011|       Perl|   9236|\n",
            "+----+-----------+-------+\n",
            "only showing top 20 rows\n",
            "\n"
          ]
        }
      ]
    }
  ]
}