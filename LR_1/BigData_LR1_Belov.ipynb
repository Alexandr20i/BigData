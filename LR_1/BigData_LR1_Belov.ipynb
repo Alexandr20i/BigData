{
  "cells": [
    {
      "cell_type": "markdown",
      "metadata": {
        "colab_type": "text",
        "id": "view-in-github"
      },
      "source": [
        "<a href=\"https://colab.research.google.com/github/Alexandr20i/BigData/blob/main/BigData_LR1_Belov.ipynb\" target=\"_parent\"><img src=\"https://colab.research.google.com/assets/colab-badge.svg\" alt=\"Open In Colab\"/></a>"
      ]
    },
    {
      "cell_type": "code",
      "execution_count": null,
      "metadata": {
        "colab": {
          "base_uri": "https://localhost:8080/",
          "height": 188
        },
        "id": "3FG7JrhAiash",
        "outputId": "b240fc6d-2b57-4464-be8a-91ad36ef357c"
      },
      "outputs": [
        {
          "data": {
            "text/html": [
              "\n",
              "        <div>\n",
              "            <p><b>SparkContext</b></p>\n",
              "\n",
              "            <p><a href=\"http://269ae2beff74:4040\">Spark UI</a></p>\n",
              "\n",
              "            <dl>\n",
              "              <dt>Version</dt>\n",
              "                <dd><code>v3.5.5</code></dd>\n",
              "              <dt>Master</dt>\n",
              "                <dd><code>local[1]</code></dd>\n",
              "              <dt>AppName</dt>\n",
              "                <dd><code>Lab1</code></dd>\n",
              "            </dl>\n",
              "        </div>\n",
              "        "
            ],
            "text/plain": [
              "<SparkContext master=local[1] appName=Lab1>"
            ]
          },
          "execution_count": 1,
          "metadata": {},
          "output_type": "execute_result"
        }
      ],
      "source": [
        "from pyspark import SparkContext, SparkConf\n",
        "app_name = \"Lab1\"\n",
        "conf = SparkConf().setAppName(app_name).setMaster('local[1]')\n",
        "sc = SparkContext(conf=conf)\n",
        "sc\n"
      ]
    },
    {
      "cell_type": "code",
      "execution_count": 2,
      "metadata": {
        "id": "QMeSabSTryDk"
      },
      "outputs": [],
      "source": [
        "from typing import NamedTuple\n",
        "from datetime import datetime\n",
        "\n",
        "def initStation(stations):\n",
        "    class Station(NamedTuple):\n",
        "        station_id: int\n",
        "        name: str\n",
        "        lat: float\n",
        "        long: float\n",
        "        dockcount: int\n",
        "        landmark: str\n",
        "        installation: str\n",
        "\n",
        "    for station in stations:\n",
        "        yield Station(\n",
        "            station_id = int(station[0]),\n",
        "            name = station[1],\n",
        "            lat = float(station[2]),\n",
        "            long = float(station[3]),\n",
        "            dockcount = int(station[4]),\n",
        "            landmark = station[5],\n",
        "            installation = datetime.strptime(station[6], '%m/%d/%Y')\n",
        "        )\n",
        "\n",
        "def initTrip(trips):\n",
        "    class Trip(NamedTuple):\n",
        "        trip_id: int\n",
        "        duration: int\n",
        "        start_date: datetime\n",
        "        start_station_name: str\n",
        "        start_station_id: int\n",
        "        end_date: datetime\n",
        "        end_station_name: str\n",
        "        end_station_id: int\n",
        "        bike_id: int\n",
        "        subscription_type: str\n",
        "        zip_code: str\n",
        "\n",
        "    for trip in trips:\n",
        "        yield Trip(\n",
        "            trip_id = int(trip[0]),\n",
        "            duration = int(trip[1]) if trip[1] != '' else 0,\n",
        "            start_date = datetime.strptime(trip[2], '%m/%d/%Y %H:%M') if trip[2] != '' else None,\n",
        "            start_station_name = trip[3],\n",
        "            start_station_id = int(trip[4]),\n",
        "            end_date = datetime.strptime(trip[5], '%m/%d/%Y %H:%M') if trip[5] != '' else None,\n",
        "            end_station_name = trip[6],\n",
        "            end_station_id = int(trip[7]),\n",
        "            bike_id = int(trip[8]),\n",
        "            subscription_type = trip[9],\n",
        "            zip_code = trip[10]\n",
        "        )"
      ]
    },
    {
      "cell_type": "code",
      "execution_count": 3,
      "metadata": {
        "id": "C9vsedzIthOH"
      },
      "outputs": [],
      "source": [
        "def GetDataFromTable(data):\n",
        "    columns = data.first()\n",
        "    table = data.filter(lambda row: row != columns)\\\n",
        "                .map(lambda row: row.split(\",\"))\n",
        "    return columns, table"
      ]
    },
    {
      "cell_type": "code",
      "execution_count": 4,
      "metadata": {
        "colab": {
          "base_uri": "https://localhost:8080/"
        },
        "id": "HGXkblnTtjjy",
        "outputId": "8ce619c1-e7f3-402b-b3d6-302e3d6e8292"
      },
      "outputs": [
        {
          "name": "stdout",
          "output_type": "stream",
          "text": [
            "Trip data\n",
            "\n",
            "\n",
            " id,duration,start_date,start_station_name,start_station_id,end_date,end_station_name,end_station_id,bike_id,subscription_type,zip_code\n",
            "\n",
            " 4576,63,8/29/2013 14:13,South Van Ness at Market,66,8/29/2013 14:14,South Van Ness at Market,66,520,Subscriber,94127\n",
            "\n",
            "\n",
            "Station data\n",
            "\n",
            "\n",
            " id,name,lat,long,dock_count,city,installation_date\n",
            "\n",
            " 2,San Jose Diridon Caltrain Station,37.329732,-121.90178200000001,27,San Jose,8/6/2013\n"
          ]
        }
      ],
      "source": [
        "tripData = sc.textFile(\"trip.csv\")\n",
        "stationData = sc.textFile(\"station.csv\")\n",
        "print(\"Trip data\\n\")\n",
        "for data in tripData.take(2):\n",
        "    print(\"\\n\", data)\n",
        "print(\"\\n\\nStation data\\n\")\n",
        "for data in stationData.take(2):\n",
        "    print(\"\\n\", data)"
      ]
    },
    {
      "cell_type": "code",
      "execution_count": 5,
      "metadata": {
        "colab": {
          "base_uri": "https://localhost:8080/"
        },
        "id": "Z1kX1WNLtyQ7",
        "outputId": "083960b2-812c-495e-d6ea-e41ec1e225f0"
      },
      "outputs": [
        {
          "data": {
            "text/plain": [
              "['2',\n",
              " 'San Jose Diridon Caltrain Station',\n",
              " '37.329732',\n",
              " '-121.90178200000001',\n",
              " '27',\n",
              " 'San Jose',\n",
              " '8/6/2013']"
            ]
          },
          "execution_count": 5,
          "metadata": {},
          "output_type": "execute_result"
        }
      ],
      "source": [
        "tripColumns, trips = GetDataFromTable(tripData)\n",
        "stationCoolumns, stations = GetDataFromTable(stationData)\n",
        "stations.first()"
      ]
    },
    {
      "cell_type": "code",
      "execution_count": 6,
      "metadata": {
        "colab": {
          "base_uri": "https://localhost:8080/"
        },
        "id": "54UZ3lhst0Uc",
        "outputId": "80944dc6-def6-431a-d8ab-e9b31034ff32"
      },
      "outputs": [
        {
          "name": "stdout",
          "output_type": "stream",
          "text": [
            "id,name,lat,long,dock_count,city,installation_date\n",
            "2,San Jose Diridon Caltrain Station,37.329732,-121.90178200000001,27,San Jose,8/6/2013\n",
            "3,San Jose Civic Center,37.330698,-121.888979,15,San Jose,8/5/2013\n",
            "4,Santa Clara at Almaden,37.333988,-121.894902,11,San Jose,8/6/2013\n",
            "5,Adobe on Almaden,37.331415,-121.8932,19,San Jose,8/5/2013\n",
            "6,San Pedro Square,37.336721000000004,-121.894074,15,San Jose,8/7/2013\n",
            "7,Paseo de San Antonio,37.333798,-121.88694299999999,15,San Jose,8/7/2013\n",
            "8,San Salvador at 1st,37.330165,-121.88583100000001,15,San Jose,8/5/2013\n",
            "9,Japantown,37.348742,-121.89471499999999,15,San Jose,8/5/2013\n",
            "10,San Jose City Hall,37.337391,-121.886995,15,San Jose,8/6/2013\n"
          ]
        }
      ],
      "source": [
        "!head station.csv"
      ]
    },
    {
      "cell_type": "markdown",
      "metadata": {
        "id": "36H2iY51t-aB"
      },
      "source": [
        "\n",
        "## 1.   Найти велосипед с максимальным временем пробега.\n",
        "\n"
      ]
    },
    {
      "cell_type": "code",
      "execution_count": 7,
      "metadata": {
        "id": "ohcN6Wi6t5tu"
      },
      "outputs": [],
      "source": [
        "tripsObjects = trips.mapPartitions(initTrip)\n"
      ]
    },
    {
      "cell_type": "code",
      "execution_count": 8,
      "metadata": {
        "colab": {
          "base_uri": "https://localhost:8080/"
        },
        "id": "h70tAop_uNjO",
        "outputId": "650d35eb-96d8-450c-d2bb-951ddd9cf279"
      },
      "outputs": [
        {
          "name": "stdout",
          "output_type": "stream",
          "text": [
            "Id велосипеда с максимальным временем пробега:  593\n"
          ]
        }
      ],
      "source": [
        "bike_top = tripsObjects.map(lambda trip: (trip.bike_id, trip.duration))\\\n",
        "                  .reduceByKey(lambda a, b: a + b)\\\n",
        "                  .top(1, key = lambda x: x[1])[0][0]\n",
        "print(\"Id велосипеда с максимальным временем пробега: \", bike_top)"
      ]
    },
    {
      "cell_type": "markdown",
      "metadata": {
        "id": "WOF-dLFsurDM"
      },
      "source": [
        "## 2. Найти наибольшее геодезическое расстояние между станциями.\n",
        "\n"
      ]
    },
    {
      "cell_type": "code",
      "execution_count": 9,
      "metadata": {
        "id": "azuP8Nl7uqqh"
      },
      "outputs": [],
      "source": [
        "import math\n",
        "def degreesToRadians(degrees):\n",
        "    return math.pi/180*degrees\n",
        "\n",
        "def distanceInKmBetweenEarthCoordinates(lat1, lon1, lat2, lon2):\n",
        "    earthRadiusKm = 6371\n",
        "\n",
        "    dLat = degreesToRadians(lat2-lat1)\n",
        "    dLon = degreesToRadians(lon2-lon1)\n",
        "\n",
        "    lat1 = degreesToRadians(lat1)\n",
        "    lat2 = degreesToRadians(lat2)\n",
        "\n",
        "    a = math.sin(dLat/2) * math.sin(dLat/2) + math.sin(dLon/2) * math.sin(dLon/2) * math.cos(lat1) * math.cos(lat2)\n",
        "    angle = 2 * math.atan2(math.sqrt(a), math.sqrt(1-a))\n",
        "    return earthRadiusKm * angle"
      ]
    },
    {
      "cell_type": "code",
      "execution_count": 10,
      "metadata": {
        "id": "V5O8nNXOu4WT"
      },
      "outputs": [],
      "source": [
        "stationObjects = stations.mapPartitions(initStation)\n"
      ]
    },
    {
      "cell_type": "code",
      "execution_count": 11,
      "metadata": {
        "colab": {
          "base_uri": "https://localhost:8080/"
        },
        "id": "XfQGErlzu7Ca",
        "outputId": "b1e415ef-d0a9-4504-d6bf-7cf70427f773"
      },
      "outputs": [
        {
          "name": "stdout",
          "output_type": "stream",
          "text": [
            "(('SJSU - San Salvador at 9th', 'Embarcadero at Sansome'), 69.9208759542826)\n",
            "Самое большое расстояние между станциями 'SJSU - San Salvador at 9th' и 'Embarcadero at Sansome и равно 69.920876 км\n"
          ]
        }
      ],
      "source": [
        "all_names = stationObjects.map(lambda row: (1, (row.station_id, row.name, row.lat, row.long)))\n",
        "answer = all_names.join(all_names)\\\n",
        "               .map(lambda row: row[1])\\\n",
        "      .filter(lambda row: row[0][0]<row[1][0])\\\n",
        "      .map(lambda row: ((row[0][1], row[1][1]),distanceInKmBetweenEarthCoordinates(row[0][2], row[0][3], row[1][2], row[1][3])))\\\n",
        "      .sortBy(lambda x: x[1], ascending=False)\\\n",
        "      .first()\n",
        "print(answer)\n",
        "print(\"Самое большое расстояние между станциями '%s' и '%s и равно %f км\" %(answer[0][0], answer[0][1],answer[1]))"
      ]
    },
    {
      "cell_type": "markdown",
      "metadata": {
        "id": "iZ0zQDT-vCKW"
      },
      "source": [
        "## 3. Найти путь велосипеда с максимальным временем пробега через станции."
      ]
    },
    {
      "cell_type": "code",
      "execution_count": 12,
      "metadata": {
        "colab": {
          "base_uri": "https://localhost:8080/"
        },
        "id": "4x5AnE12vD0q",
        "outputId": "84c06d2c-fde2-4bcf-8793-d380c49b5df4"
      },
      "outputs": [
        {
          "name": "stdout",
          "output_type": "stream",
          "text": [
            "Всего поездок:  338\n",
            "\n",
            "\n",
            "\n",
            "Post at Kearney  ->  2nd at South Park\n",
            "2nd at South Park  ->  2nd at South Park\n",
            "San Francisco Caltrain (Townsend at 4th)  ->  Civic Center BART (7th at Market)\n",
            "South Van Ness at Market  ->  Powell Street BART\n",
            "Powell Street BART  ->  Grant Avenue at Columbus Avenue\n",
            "Grant Avenue at Columbus Avenue  ->  Post at Kearney\n",
            "Post at Kearney  ->  South Van Ness at Market\n",
            "South Van Ness at Market  ->  Market at 4th\n",
            "Harry Bridges Plaza (Ferry Building)  ->  Townsend at 7th\n",
            "Townsend at 7th  ->  Yerba Buena Center of the Arts (3rd @ Howard)\n",
            "Yerba Buena Center of the Arts (3rd @ Howard)  ->  Steuart at Market\n",
            "Steuart at Market  ->  Market at 4th\n",
            "Market at 4th  ->  San Francisco Caltrain (Townsend at 4th)\n",
            "San Francisco Caltrain (Townsend at 4th)  ->  Mechanics Plaza (Market at Battery)\n",
            "Mechanics Plaza (Market at Battery)  ->  San Francisco Caltrain 2 (330 Townsend)\n",
            "5th at Howard  ->  Market at 10th\n",
            "Market at 10th  ->  Civic Center BART (7th at Market)\n",
            "Civic Center BART (7th at Market)  ->  Market at 4th\n",
            "Market at 4th  ->  Embarcadero at Sansome\n",
            "Embarcadero at Sansome  ->  Spear at Folsom\n",
            "Spear at Folsom  ->  Spear at Folsom\n",
            "Spear at Folsom  ->  2nd at Folsom\n",
            "2nd at Folsom  ->  Townsend at 7th\n",
            "Townsend at 7th  ->  2nd at Folsom\n",
            "2nd at Folsom  ->  Market at Sansome\n",
            "Market at Sansome  ->  2nd at South Park\n",
            "2nd at South Park  ->  Market at Sansome\n",
            "Market at Sansome  ->  San Francisco Caltrain (Townsend at 4th)\n",
            "San Francisco Caltrain (Townsend at 4th)  ->  Embarcadero at Folsom\n",
            "Embarcadero at Folsom  ->  San Francisco Caltrain (Townsend at 4th)\n",
            "San Francisco Caltrain (Townsend at 4th)  ->  Powell Street BART\n",
            "Powell Street BART  ->  Harry Bridges Plaza (Ferry Building)\n",
            "Harry Bridges Plaza (Ferry Building)  ->  Harry Bridges Plaza (Ferry Building)\n",
            "Harry Bridges Plaza (Ferry Building)  ->  Harry Bridges Plaza (Ferry Building)\n",
            "Harry Bridges Plaza (Ferry Building)  ->  Embarcadero at Bryant\n",
            "2nd at Townsend  ->  Steuart at Market\n",
            "Steuart at Market  ->  San Francisco Caltrain (Townsend at 4th)\n",
            "San Francisco Caltrain (Townsend at 4th)  ->  Embarcadero at Folsom\n",
            "Embarcadero at Folsom  ->  5th at Howard\n",
            "5th at Howard  ->  Harry Bridges Plaza (Ferry Building)\n",
            "Harry Bridges Plaza (Ferry Building)  ->  Commercial at Montgomery\n",
            "Commercial at Montgomery  ->  Market at Sansome\n",
            "Market at Sansome  ->  2nd at Folsom\n",
            "2nd at Folsom  ->  2nd at Townsend\n",
            "2nd at Townsend  ->  San Francisco Caltrain (Townsend at 4th)\n",
            "San Francisco Caltrain (Townsend at 4th)  ->  Embarcadero at Vallejo\n",
            "Embarcadero at Vallejo  ->  Beale at Market\n",
            "Beale at Market  ->  San Francisco Caltrain 2 (330 Townsend)\n",
            "San Francisco Caltrain 2 (330 Townsend)  ->  Townsend at 7th\n",
            "Townsend at 7th  ->  Commercial at Montgomery\n",
            "Commercial at Montgomery  ->  Embarcadero at Bryant\n",
            "Embarcadero at Bryant  ->  Commercial at Montgomery\n",
            "Commercial at Montgomery  ->  Embarcadero at Bryant\n",
            "Embarcadero at Bryant  ->  Embarcadero at Sansome\n",
            "5th at Howard  ->  Market at 4th\n",
            "Market at 4th  ->  2nd at South Park\n",
            "2nd at South Park  ->  2nd at South Park\n",
            "Market at 10th  ->  Powell at Post (Union Square)\n",
            "Powell at Post (Union Square)  ->  Civic Center BART (7th at Market)\n",
            "Civic Center BART (7th at Market)  ->  South Van Ness at Market\n",
            "South Van Ness at Market  ->  Embarcadero at Vallejo\n",
            "Embarcadero at Vallejo  ->  Steuart at Market\n",
            "Steuart at Market  ->  Market at 4th\n",
            "Market at 4th  ->  South Van Ness at Market\n",
            "South Van Ness at Market  ->  Howard at 2nd\n",
            "Howard at 2nd  ->  Market at 4th\n",
            "Market at 4th  ->  San Francisco Caltrain 2 (330 Townsend)\n",
            "San Francisco Caltrain 2 (330 Townsend)  ->  Townsend at 7th\n",
            "Townsend at 7th  ->  Golden Gate at Polk\n",
            "Golden Gate at Polk  ->  San Francisco Caltrain (Townsend at 4th)\n",
            "San Francisco Caltrain (Townsend at 4th)  ->  Spear at Folsom\n",
            "Powell at Post (Union Square)  ->  Grant Avenue at Columbus Avenue\n",
            "Grant Avenue at Columbus Avenue  ->  Mechanics Plaza (Market at Battery)\n",
            "Mechanics Plaza (Market at Battery)  ->  2nd at Folsom\n",
            "2nd at Folsom  ->  Steuart at Market\n",
            "Steuart at Market  ->  San Francisco Caltrain 2 (330 Townsend)\n",
            "Embarcadero at Vallejo  ->  Howard at 2nd\n",
            "Howard at 2nd  ->  Market at 10th\n",
            "Beale at Market  ->  Powell at Post (Union Square)\n",
            "Powell at Post (Union Square)  ->  Grant Avenue at Columbus Avenue\n",
            "Davis at Jackson  ->  Mechanics Plaza (Market at Battery)\n",
            "Mechanics Plaza (Market at Battery)  ->  Davis at Jackson\n",
            "Davis at Jackson  ->  Temporary Transbay Terminal (Howard at Beale)\n",
            "Temporary Transbay Terminal (Howard at Beale)  ->  5th at Howard\n",
            "5th at Howard  ->  Mechanics Plaza (Market at Battery)\n",
            "Mechanics Plaza (Market at Battery)  ->  Harry Bridges Plaza (Ferry Building)\n",
            "Harry Bridges Plaza (Ferry Building)  ->  2nd at Townsend\n",
            "2nd at Townsend  ->  Harry Bridges Plaza (Ferry Building)\n",
            "Harry Bridges Plaza (Ferry Building)  ->  Embarcadero at Vallejo\n",
            "Embarcadero at Vallejo  ->  Embarcadero at Vallejo\n",
            "Embarcadero at Vallejo  ->  Embarcadero at Bryant\n",
            "Embarcadero at Bryant  ->  Temporary Transbay Terminal (Howard at Beale)\n",
            "Temporary Transbay Terminal (Howard at Beale)  ->  Townsend at 7th\n",
            "Civic Center BART (7th at Market)  ->  Townsend at 7th\n",
            "Townsend at 7th  ->  Powell Street BART\n",
            "Powell Street BART  ->  Embarcadero at Vallejo\n",
            "Embarcadero at Vallejo  ->  Harry Bridges Plaza (Ferry Building)\n",
            "Embarcadero at Sansome  ->  San Francisco Caltrain 2 (330 Townsend)\n",
            "San Francisco Caltrain 2 (330 Townsend)  ->  Townsend at 7th\n",
            "San Francisco Caltrain (Townsend at 4th)  ->  Market at Sansome\n",
            "Market at Sansome  ->  Harry Bridges Plaza (Ferry Building)\n",
            "Harry Bridges Plaza (Ferry Building)  ->  Embarcadero at Sansome\n",
            "Embarcadero at Sansome  ->  Market at 4th\n",
            "Market at 4th  ->  2nd at Folsom\n",
            "2nd at Folsom  ->  Post at Kearney\n",
            "Post at Kearney  ->  5th at Howard\n",
            "5th at Howard  ->  San Francisco Caltrain 2 (330 Townsend)\n",
            "San Francisco Caltrain 2 (330 Townsend)  ->  5th at Howard\n",
            "5th at Howard  ->  Commercial at Montgomery\n",
            "Commercial at Montgomery  ->  Commercial at Montgomery\n",
            "Commercial at Montgomery  ->  Yerba Buena Center of the Arts (3rd @ Howard)\n",
            "Spear at Folsom  ->  Embarcadero at Sansome\n",
            "Embarcadero at Sansome  ->  2nd at Folsom\n",
            "2nd at Folsom  ->  Powell Street BART\n",
            "Powell Street BART  ->  San Francisco Caltrain 2 (330 Townsend)\n",
            "San Francisco Caltrain 2 (330 Townsend)  ->  Market at Sansome\n",
            "Market at Sansome  ->  Commercial at Montgomery\n",
            "San Francisco Caltrain 2 (330 Townsend)  ->  Powell Street BART\n",
            "Powell Street BART  ->  San Francisco Caltrain 2 (330 Townsend)\n",
            "San Francisco Caltrain 2 (330 Townsend)  ->  Harry Bridges Plaza (Ferry Building)\n",
            "Harry Bridges Plaza (Ferry Building)  ->  Embarcadero at Sansome\n",
            "Embarcadero at Sansome  ->  Harry Bridges Plaza (Ferry Building)\n",
            "Commercial at Montgomery  ->  2nd at South Park\n",
            "Temporary Transbay Terminal (Howard at Beale)  ->  Temporary Transbay Terminal (Howard at Beale)\n",
            "Temporary Transbay Terminal (Howard at Beale)  ->  Washington at Kearney\n",
            "Washington at Kearney  ->  Powell Street BART\n",
            "San Francisco Caltrain (Townsend at 4th)  ->  Post at Kearney\n",
            "Post at Kearney  ->  Golden Gate at Polk\n",
            "Golden Gate at Polk  ->  Market at 4th\n",
            "Market at 4th  ->  2nd at South Park\n",
            "2nd at South Park  ->  Beale at Market\n",
            "Beale at Market  ->  2nd at South Park\n",
            "Civic Center BART (7th at Market)  ->  Golden Gate at Polk\n",
            "Golden Gate at Polk  ->  Townsend at 7th\n",
            "Townsend at 7th  ->  Harry Bridges Plaza (Ferry Building)\n",
            "Harry Bridges Plaza (Ferry Building)  ->  Townsend at 7th\n",
            "Temporary Transbay Terminal (Howard at Beale)  ->  San Francisco Caltrain 2 (330 Townsend)\n",
            "Commercial at Montgomery  ->  Market at Sansome\n",
            "Market at Sansome  ->  San Francisco Caltrain 2 (330 Townsend)\n",
            "San Francisco Caltrain 2 (330 Townsend)  ->  5th at Howard\n",
            "Temporary Transbay Terminal (Howard at Beale)  ->  2nd at Townsend\n",
            "2nd at Townsend  ->  Market at 10th\n",
            "Market at 10th  ->  5th at Howard\n",
            "5th at Howard  ->  Spear at Folsom\n",
            "Market at 10th  ->  5th at Howard\n",
            "Temporary Transbay Terminal (Howard at Beale)  ->  2nd at South Park\n",
            "2nd at South Park  ->  Powell at Post (Union Square)\n",
            "Powell at Post (Union Square)  ->  2nd at South Park\n",
            "San Francisco City Hall  ->  San Francisco Caltrain (Townsend at 4th)\n",
            "San Francisco Caltrain (Townsend at 4th)  ->  Civic Center BART (7th at Market)\n",
            "Civic Center BART (7th at Market)  ->  Market at 10th\n",
            "Market at 10th  ->  Powell at Post (Union Square)\n",
            "Powell at Post (Union Square)  ->  Post at Kearney\n",
            "Post at Kearney  ->  2nd at Folsom\n",
            "2nd at Folsom  ->  2nd at Townsend\n",
            "San Francisco Caltrain 2 (330 Townsend)  ->  Embarcadero at Folsom\n",
            "Beale at Market  ->  Market at 4th\n",
            "Market at 4th  ->  Beale at Market\n",
            "Beale at Market  ->  Powell at Post (Union Square)\n",
            "Powell at Post (Union Square)  ->  Temporary Transbay Terminal (Howard at Beale)\n",
            "Temporary Transbay Terminal (Howard at Beale)  ->  Market at Sansome\n",
            "Market at Sansome  ->  2nd at South Park\n",
            "2nd at South Park  ->  San Francisco Caltrain (Townsend at 4th)\n",
            "San Francisco Caltrain (Townsend at 4th)  ->  Market at 10th\n",
            "Market at 10th  ->  San Francisco Caltrain (Townsend at 4th)\n",
            "San Francisco Caltrain 2 (330 Townsend)  ->  Embarcadero at Folsom\n",
            "Embarcadero at Folsom  ->  Embarcadero at Bryant\n",
            "Embarcadero at Bryant  ->  Beale at Market\n",
            "Beale at Market  ->  Powell Street BART\n",
            "Powell Street BART  ->  San Francisco Caltrain (Townsend at 4th)\n",
            "Yerba Buena Center of the Arts (3rd @ Howard)  ->  Civic Center BART (7th at Market)\n",
            "Powell at Post (Union Square)  ->  San Francisco Caltrain (Townsend at 4th)\n",
            "San Francisco Caltrain (Townsend at 4th)  ->  Spear at Folsom\n",
            "2nd at Folsom  ->  2nd at South Park\n",
            "2nd at South Park  ->  Market at Sansome\n",
            "Market at Sansome  ->  2nd at South Park\n",
            "2nd at South Park  ->  Market at Sansome\n",
            "Market at Sansome  ->  Grant Avenue at Columbus Avenue\n",
            "Grant Avenue at Columbus Avenue  ->  San Francisco Caltrain (Townsend at 4th)\n",
            "San Francisco Caltrain (Townsend at 4th)  ->  Clay at Battery\n",
            "Clay at Battery  ->  Townsend at 7th\n",
            "Townsend at 7th  ->  Post at Kearney\n",
            "Post at Kearney  ->  Embarcadero at Folsom\n",
            "Embarcadero at Folsom  ->  2nd at Townsend\n",
            "San Francisco Caltrain (Townsend at 4th)  ->  Harry Bridges Plaza (Ferry Building)\n",
            "Harry Bridges Plaza (Ferry Building)  ->  2nd at Townsend\n",
            "San Francisco Caltrain (Townsend at 4th)  ->  Embarcadero at Folsom\n",
            "Embarcadero at Folsom  ->  San Francisco Caltrain (Townsend at 4th)\n",
            "2nd at South Park  ->  Yerba Buena Center of the Arts (3rd @ Howard)\n",
            "Civic Center BART (7th at Market)  ->  Market at 4th\n",
            "Market at 4th  ->  Market at 10th\n",
            "San Francisco Caltrain (Townsend at 4th)  ->  Howard at 2nd\n",
            "Howard at 2nd  ->  Steuart at Market\n",
            "Steuart at Market  ->  2nd at Folsom\n",
            "2nd at Folsom  ->  San Francisco Caltrain (Townsend at 4th)\n",
            "San Francisco Caltrain (Townsend at 4th)  ->  Howard at 2nd\n",
            "Howard at 2nd  ->  Market at Sansome\n",
            "Market at Sansome  ->  Spear at Folsom\n",
            "Spear at Folsom  ->  2nd at Townsend\n",
            "San Francisco Caltrain (Townsend at 4th)  ->  Civic Center BART (7th at Market)\n",
            "Civic Center BART (7th at Market)  ->  Market at 4th\n",
            "Market at 4th  ->  Harry Bridges Plaza (Ferry Building)\n",
            "Harry Bridges Plaza (Ferry Building)  ->  San Francisco Caltrain (Townsend at 4th)\n",
            "San Francisco Caltrain (Townsend at 4th)  ->  Temporary Transbay Terminal (Howard at Beale)\n",
            "Temporary Transbay Terminal (Howard at Beale)  ->  Market at Sansome\n",
            "Market at Sansome  ->  2nd at Folsom\n",
            "2nd at Folsom  ->  Steuart at Market\n",
            "Steuart at Market  ->  Embarcadero at Sansome\n",
            "Market at 4th  ->  2nd at South Park\n",
            "2nd at South Park  ->  Beale at Market\n",
            "Beale at Market  ->  Temporary Transbay Terminal (Howard at Beale)\n",
            "Temporary Transbay Terminal (Howard at Beale)  ->  Post at Kearney\n",
            "Post at Kearney  ->  Embarcadero at Sansome\n",
            "Embarcadero at Sansome  ->  Embarcadero at Sansome\n",
            "Commercial at Montgomery  ->  Harry Bridges Plaza (Ferry Building)\n",
            "Harry Bridges Plaza (Ferry Building)  ->  Post at Kearney\n",
            "Post at Kearney  ->  Market at Sansome\n",
            "Market at Sansome  ->  Davis at Jackson\n",
            "Davis at Jackson  ->  Howard at 2nd\n",
            "Howard at 2nd  ->  Embarcadero at Vallejo\n",
            "Embarcadero at Vallejo  ->  2nd at South Park\n",
            "2nd at South Park  ->  Market at Sansome\n",
            "Market at Sansome  ->  Harry Bridges Plaza (Ferry Building)\n",
            "Harry Bridges Plaza (Ferry Building)  ->  Spear at Folsom\n",
            "Spear at Folsom  ->  Spear at Folsom\n",
            "Spear at Folsom  ->  5th at Howard\n",
            "5th at Howard  ->  Townsend at 7th\n",
            "Golden Gate at Polk  ->  San Francisco Caltrain (Townsend at 4th)\n",
            "San Francisco Caltrain (Townsend at 4th)  ->  Civic Center BART (7th at Market)\n",
            "Civic Center BART (7th at Market)  ->  Townsend at 7th\n",
            "Townsend at 7th  ->  Embarcadero at Folsom\n",
            "Market at 10th  ->  Market at 4th\n",
            "Market at 4th  ->  San Francisco Caltrain (Townsend at 4th)\n",
            "2nd at Folsom  ->  Davis at Jackson\n",
            "Clay at Battery  ->  5th at Howard\n",
            "Grant Avenue at Columbus Avenue  ->  2nd at Townsend\n",
            "2nd at Townsend  ->  Steuart at Market\n",
            "Embarcadero at Bryant  ->  Embarcadero at Sansome\n",
            "Embarcadero at Sansome  ->  Embarcadero at Sansome\n",
            "Embarcadero at Sansome  ->  Embarcadero at Sansome\n",
            "Embarcadero at Sansome  ->  Steuart at Market\n",
            "Steuart at Market  ->  Steuart at Market\n",
            "Steuart at Market  ->  Market at 4th\n",
            "Market at 4th  ->  Market at 10th\n",
            "Market at 10th  ->  Market at 10th\n",
            "Market at 10th  ->  Market at 4th\n",
            "Market at 4th  ->  Market at 10th\n",
            "Market at 10th  ->  Market at 4th\n",
            "2nd at Folsom  ->  2nd at Folsom\n",
            "2nd at Folsom  ->  2nd at South Park\n",
            "2nd at South Park  ->  2nd at Folsom\n",
            "2nd at Folsom  ->  Market at 4th\n",
            "Market at 4th  ->  Post at Kearney\n",
            "Post at Kearney  ->  Clay at Battery\n",
            "San Francisco Caltrain (Townsend at 4th)  ->  Yerba Buena Center of the Arts (3rd @ Howard)\n",
            "Yerba Buena Center of the Arts (3rd @ Howard)  ->  Market at 4th\n",
            "San Francisco Caltrain (Townsend at 4th)  ->  Temporary Transbay Terminal (Howard at Beale)\n",
            "Temporary Transbay Terminal (Howard at Beale)  ->  Powell Street BART\n",
            "Powell Street BART  ->  Golden Gate at Polk\n",
            "Powell Street BART  ->  Market at 10th\n",
            "Market at 10th  ->  Embarcadero at Sansome\n",
            "Embarcadero at Sansome  ->  Harry Bridges Plaza (Ferry Building)\n",
            "Harry Bridges Plaza (Ferry Building)  ->  Harry Bridges Plaza (Ferry Building)\n",
            "Harry Bridges Plaza (Ferry Building)  ->  Embarcadero at Sansome\n",
            "Embarcadero at Sansome  ->  Embarcadero at Sansome\n",
            "Embarcadero at Sansome  ->  Embarcadero at Vallejo\n",
            "Clay at Battery  ->  Market at 10th\n",
            "Market at 10th  ->  2nd at Townsend\n",
            "2nd at Townsend  ->  Embarcadero at Bryant\n",
            "Embarcadero at Bryant  ->  2nd at Townsend\n",
            "2nd at Townsend  ->  Yerba Buena Center of the Arts (3rd @ Howard)\n",
            "Steuart at Market  ->  2nd at Townsend\n",
            "2nd at Townsend  ->  Harry Bridges Plaza (Ferry Building)\n",
            "Harry Bridges Plaza (Ferry Building)  ->  2nd at South Park\n",
            "2nd at South Park  ->  5th at Howard\n",
            "Grant Avenue at Columbus Avenue  ->  Temporary Transbay Terminal (Howard at Beale)\n",
            "Temporary Transbay Terminal (Howard at Beale)  ->  San Francisco Caltrain (Townsend at 4th)\n",
            "Yerba Buena Center of the Arts (3rd @ Howard)  ->  Mechanics Plaza (Market at Battery)\n",
            "Mechanics Plaza (Market at Battery)  ->  Market at Sansome\n",
            "Market at Sansome  ->  2nd at Folsom\n",
            "2nd at Folsom  ->  Embarcadero at Bryant\n",
            "Embarcadero at Bryant  ->  Harry Bridges Plaza (Ferry Building)\n",
            "Harry Bridges Plaza (Ferry Building)  ->  Yerba Buena Center of the Arts (3rd @ Howard)\n",
            "Yerba Buena Center of the Arts (3rd @ Howard)  ->  South Van Ness at Market\n",
            "South Van Ness at Market  ->  Civic Center BART (7th at Market)\n",
            "Civic Center BART (7th at Market)  ->  Market at Sansome\n",
            "Market at Sansome  ->  Grant Avenue at Columbus Avenue\n",
            "San Francisco Caltrain (Townsend at 4th)  ->  Market at 4th\n",
            "Market at 4th  ->  Beale at Market\n",
            "Beale at Market  ->  Embarcadero at Bryant\n",
            "Embarcadero at Folsom  ->  San Francisco Caltrain (Townsend at 4th)\n",
            "Commercial at Montgomery  ->  Embarcadero at Sansome\n",
            "Embarcadero at Sansome  ->  San Francisco Caltrain (Townsend at 4th)\n",
            "San Francisco Caltrain (Townsend at 4th)  ->  Embarcadero at Folsom\n",
            "Embarcadero at Folsom  ->  2nd at Townsend\n",
            "Powell at Post (Union Square)  ->  Harry Bridges Plaza (Ferry Building)\n",
            "Harry Bridges Plaza (Ferry Building)  ->  Market at Sansome\n",
            "Grant Avenue at Columbus Avenue  ->  San Francisco Caltrain (Townsend at 4th)\n",
            "San Francisco Caltrain (Townsend at 4th)  ->  Temporary Transbay Terminal (Howard at Beale)\n",
            "Temporary Transbay Terminal (Howard at Beale)  ->  Market at 4th\n",
            "Market at 4th  ->  San Francisco Caltrain (Townsend at 4th)\n",
            "San Francisco Caltrain (Townsend at 4th)  ->  Grant Avenue at Columbus Avenue\n",
            "Grant Avenue at Columbus Avenue  ->  Beale at Market\n",
            "Beale at Market  ->  Temporary Transbay Terminal (Howard at Beale)\n",
            "Temporary Transbay Terminal (Howard at Beale)  ->  2nd at South Park\n",
            "2nd at South Park  ->  San Francisco Caltrain (Townsend at 4th)\n",
            "San Francisco Caltrain 2 (330 Townsend)  ->  Powell Street BART\n",
            "Powell Street BART  ->  San Francisco Caltrain 2 (330 Townsend)\n",
            "San Francisco Caltrain 2 (330 Townsend)  ->  2nd at Townsend\n",
            "2nd at Townsend  ->  San Francisco Caltrain (Townsend at 4th)\n",
            "2nd at South Park  ->  Market at Sansome\n",
            "Market at Sansome  ->  San Francisco Caltrain 2 (330 Townsend)\n",
            "Embarcadero at Sansome  ->  Steuart at Market\n",
            "Embarcadero at Vallejo  ->  Mechanics Plaza (Market at Battery)\n",
            "Mechanics Plaza (Market at Battery)  ->  Harry Bridges Plaza (Ferry Building)\n",
            "Harry Bridges Plaza (Ferry Building)  ->  Embarcadero at Sansome\n",
            "Spear at Folsom  ->  Powell Street BART\n",
            "Powell Street BART  ->  San Francisco Caltrain 2 (330 Townsend)\n",
            "San Francisco Caltrain 2 (330 Townsend)  ->  Market at 10th\n",
            "Market at 10th  ->  2nd at Townsend\n",
            "2nd at Townsend  ->  Harry Bridges Plaza (Ferry Building)\n",
            "Harry Bridges Plaza (Ferry Building)  ->  San Francisco Caltrain (Townsend at 4th)\n",
            "San Francisco Caltrain (Townsend at 4th)  ->  2nd at South Park\n",
            "2nd at South Park  ->  Market at Sansome\n",
            "Market at Sansome  ->  San Francisco Caltrain 2 (330 Townsend)\n",
            "San Francisco Caltrain 2 (330 Townsend)  ->  Townsend at 7th\n",
            "Townsend at 7th  ->  San Francisco Caltrain (Townsend at 4th)\n",
            "San Francisco Caltrain (Townsend at 4th)  ->  Grant Avenue at Columbus Avenue\n",
            "Grant Avenue at Columbus Avenue  ->  San Francisco Caltrain (Townsend at 4th)\n",
            "San Francisco Caltrain (Townsend at 4th)  ->  Market at Sansome\n",
            "Market at Sansome  ->  2nd at South Park\n",
            "Temporary Transbay Terminal (Howard at Beale)  ->  San Francisco Caltrain (Townsend at 4th)\n",
            "South Van Ness at Market  ->  Mechanics Plaza (Market at Battery)\n",
            "Mechanics Plaza (Market at Battery)  ->  Commercial at Montgomery\n",
            "Commercial at Montgomery  ->  Mechanics Plaza (Market at Battery)\n",
            "Mechanics Plaza (Market at Battery)  ->  Market at 10th\n",
            "Market at 10th  ->  Howard at 2nd\n",
            "Howard at 2nd  ->  Market at Sansome\n"
          ]
        }
      ],
      "source": [
        "allTheWay = tripsObjects.filter(lambda trip: trip.bike_id == bike_top)\\\n",
        "                        .sortBy(lambda trip: trip.start_date)\\\n",
        "                        .map(lambda trip: (trip.start_station_name, trip.end_station_name))\n",
        "\n",
        "print(\"Всего поездок: \", allTheWay.count())\n",
        "print(\"\\n\\n\")\n",
        "for trip in allTheWay.collect():\n",
        "    print(trip[0], \" -> \", trip[1])"
      ]
    },
    {
      "cell_type": "markdown",
      "metadata": {
        "id": "ul_914gRvT2_"
      },
      "source": [
        "## 4. Найти количество велосипедов в системе."
      ]
    },
    {
      "cell_type": "code",
      "execution_count": 13,
      "metadata": {
        "colab": {
          "base_uri": "https://localhost:8080/"
        },
        "id": "VsSU3Z1PvZ9E",
        "outputId": "8080296c-2bdf-464a-ce9c-32cc49466c29"
      },
      "outputs": [
        {
          "name": "stdout",
          "output_type": "stream",
          "text": [
            "Количество велосипедов: 689\n"
          ]
        }
      ],
      "source": [
        "print(\"Количество велосипедов:\", tripsObjects.map(lambda trip: trip.bike_id).distinct().count())\n"
      ]
    },
    {
      "cell_type": "markdown",
      "metadata": {
        "id": "pnc2ZKeevhvY"
      },
      "source": [
        "## 5. Найти пользователей потративших на поездки более 3 часов."
      ]
    },
    {
      "cell_type": "code",
      "execution_count": 14,
      "metadata": {
        "colab": {
          "base_uri": "https://localhost:8080/"
        },
        "id": "T_6g4bDLvjbf",
        "outputId": "87485c98-c8af-4e13-9720-d9d66e5ca2ae"
      },
      "outputs": [
        {
          "name": "stdout",
          "output_type": "stream",
          "text": [
            "Количество:  2035\n",
            "[433, 377, 645, 434, 501, 614, 464, 150, 460, 390, 269, 141, 484, 458, 638, 640, 627, 552, 608, 439, 416, 95, 587, 257, 353, 412, 608, 594, 388, 572, 613, 580, 385, 559, 320, 391, 428, 387, 541, 471, 396, 277, 52, 350, 381, 348, 488, 536, 410, 537, 342, 583, 259, 369, 406, 427, 142, 259, 416, 468, 339, 511, 272, 572, 568, 467, 487, 260, 325, 502, 94, 279, 524, 408, 436, 317, 544, 333, 614, 345, 401, 625, 437, 367, 332, 426, 515, 581, 446, 444, 585, 616, 338, 277, 320, 385, 576, 606, 12, 528, 484, 421, 540, 517, 30, 409, 372, 394, 466, 473, 568, 572, 592, 553, 472, 493, 612, 520, 501, 321, 586, 512, 555, 487, 412, 386, 467, 524, 521, 630, 370, 205, 217, 415, 326, 361, 567, 316, 464, 549, 547, 610, 427, 498, 501, 523, 572, 100, 160, 669, 612, 511, 433, 630, 374, 572, 617, 507, 272, 365, 484, 447, 575, 432, 611, 388, 466, 440, 505, 421, 279, 334, 547, 486, 613, 568, 510, 275, 552, 540, 556, 548, 359, 387, 466, 388, 441, 622, 360, 586, 481, 485, 103, 608, 413, 582, 24, 443, 571, 619, 442, 515, 520, 622, 417, 318, 351, 519, 577, 373, 505, 469, 557, 17, 592, 562, 431, 591, 557, 30, 416, 522, 487, 545, 362, 280, 539, 474, 470, 469, 269, 108, 410, 279, 17, 502, 341, 558, 557, 142, 14, 469, 635, 374, 369, 501, 553, 378, 610, 627, 513, 381, 342, 427, 424, 542, 339, 591, 626, 260, 326, 602, 266, 407, 535, 497, 524, 518, 359, 597, 431, 269, 325, 557, 386, 526, 554, 46, 636, 316, 577, 394, 596, 363, 291, 615, 599, 492, 636, 570, 360, 526, 494, 513, 515, 281, 272, 586, 393, 163, 368, 327, 383, 397, 626, 491, 400, 284, 608, 416, 9, 613, 364, 626, 494, 318, 466, 505, 342, 473, 413, 484, 281, 315, 586, 292, 649, 615, 187, 550, 571, 369, 374, 429, 356, 414, 526, 77, 357, 605, 338, 401, 627, 436, 534, 601, 520, 485, 628, 551, 280, 322, 160, 105, 327, 487, 457, 515, 490, 436, 365, 284, 555, 597, 405, 631, 386, 499, 289, 371, 406, 543, 378, 420, 521, 499, 429, 345, 623, 334, 333, 275, 344, 430, 462, 432, 408, 51, 84, 570, 385, 426, 137, 591, 493, 459, 557, 613, 379, 427, 631, 407, 415, 592, 433, 524, 259, 499, 622, 535, 542, 487, 528, 585, 539, 616, 498, 553, 577, 397, 512, 571, 503, 266, 398, 605, 576, 242, 29, 152, 526, 650, 30, 327, 508, 623, 278, 539, 165, 529, 266, 602, 383, 125, 289, 612, 590, 382, 348, 438, 608, 546, 471, 578, 548, 331, 554, 472, 357, 575, 532, 571, 606, 623, 508, 594, 535, 573, 359, 576, 477, 47, 375, 478, 581, 633, 469, 513, 592, 629, 589, 431, 550, 581, 610, 599, 422, 589, 274, 608, 522, 509, 478, 632, 394, 623, 425, 532, 367, 384, 500, 329, 654, 281, 636, 350, 615, 420, 498, 576, 497, 148, 553, 93, 446, 399, 519, 586, 387, 457, 268, 618, 562, 619, 281, 277, 52, 397, 616, 90, 12, 594, 622, 354, 553, 466, 288, 119, 139, 653, 514, 496, 392, 390, 359, 590, 527, 552, 556, 452, 536, 416, 634, 430, 633, 437, 388, 606, 378, 517, 594, 566, 515, 364, 28, 283, 570, 376, 523, 605, 637, 462, 290, 466, 269, 562, 320, 358, 452, 152, 469, 599, 557, 291, 497, 620, 320, 633, 571, 152, 470, 265, 303, 168, 320, 255, 637, 624, 260, 28, 511, 187, 12, 613, 577, 384, 318, 654, 177, 611, 542, 548, 320, 501, 268, 599, 568, 613, 487, 443, 594, 543, 17, 529, 364, 560, 82, 508, 587, 524, 260, 273, 162, 416, 497, 411, 273, 605, 486, 596, 527, 330, 621, 363, 382, 625, 421, 574, 379, 546, 605, 369, 99, 231, 461, 601, 434, 413, 469, 432, 389, 335, 517, 637, 537, 445, 410, 436, 196, 469, 528, 13, 505, 268, 357, 623, 331, 326, 487, 363, 430, 390, 266, 666, 13, 464, 313, 412, 591, 557, 508, 26, 67, 69, 345, 357, 71, 484, 514, 587, 627, 572, 578, 59, 511, 548, 410, 493, 336, 535, 487, 266, 283, 524, 517, 452, 599, 456, 529, 637, 612, 281, 593, 100, 443, 496, 397, 529, 99, 77, 274, 552, 426, 597, 279, 48, 270, 396, 291, 463, 489, 289, 357, 526, 510, 554, 355, 399, 585, 548, 347, 82, 357, 465, 486, 414, 541, 439, 487, 429, 343, 354, 410, 137, 463, 473, 570, 405, 465, 526, 534, 383, 513, 331, 105, 43, 387, 470, 121, 230, 693, 335, 276, 574, 530, 615, 568, 435, 461, 379, 368, 327, 272, 426, 485, 270, 291, 562, 279, 271, 278, 540, 549, 118, 419, 610, 260, 394, 503, 564, 453, 543, 318, 670, 46, 597, 558, 515, 402, 659, 593, 445, 19, 312, 567, 628, 366, 457, 522, 94, 436, 591, 660, 483, 329, 369, 326, 290, 466, 510, 330, 416, 359, 499, 640, 593, 286, 129, 444, 535, 327, 628, 432, 345, 446, 472, 541, 406, 267, 380, 274, 538, 266, 379, 345, 547, 628, 569, 446, 342, 397, 539, 600, 448, 458, 355, 700, 489, 312, 625, 267, 425, 272, 379, 425, 461, 404, 447, 282, 618, 443, 202, 479, 508, 21, 559, 625, 312, 72, 369, 527, 274, 458, 287, 440, 449, 332, 317, 428, 284, 367, 549, 410, 462, 388, 541, 330, 502, 455, 445, 278, 626, 287, 512, 312, 343, 324, 623, 366, 331, 612, 567, 341, 602, 81, 664, 465, 580, 404, 508, 407, 332, 387, 629, 579, 568, 528, 550, 416, 549, 275, 382, 395, 273, 202, 494, 195, 146, 142, 581, 593, 175, 271, 551, 318, 348, 347, 272, 567, 607, 534, 563, 388, 432, 326, 674, 453, 267, 465, 226, 129, 278, 507, 519, 553, 395, 317, 281, 490, 563, 139, 660, 691, 25, 675, 197, 60, 621, 417, 286, 495, 302, 458, 311, 400, 355, 324, 362, 471, 431, 313, 581, 375, 537, 584, 594, 607, 579, 380, 355, 318, 583, 607, 470, 394, 389, 167, 454, 317, 366, 452, 697, 490, 584, 704, 498, 277, 498, 468, 357, 399, 342, 600, 581, 416, 477, 289, 540, 448, 542, 477, 623, 472, 373, 564, 378, 247, 590, 613, 610, 183, 599, 366, 355, 452, 481, 91, 717, 513, 259, 382, 544, 158, 91, 674, 218, 604, 559, 259, 410, 286, 574, 165, 348, 355, 334, 152, 229, 376, 445, 504, 452, 503, 276, 542, 354, 613, 634, 438, 484, 443, 441, 579, 360, 632, 370, 148, 330, 562, 309, 559, 339, 404, 354, 620, 548, 357, 427, 605, 263, 339, 313, 398, 551, 333, 426, 594, 343, 529, 603, 569, 263, 499, 282, 380, 543, 692, 625, 412, 448, 17, 100, 489, 10, 631, 577, 213, 143, 607, 343, 493, 501, 488, 305, 542, 372, 395, 386, 481, 433, 486, 407, 259, 264, 48, 395, 637, 368, 407, 461, 420, 291, 526, 51, 520, 577, 478, 426, 492, 315, 556, 520, 488, 480, 482, 467, 239, 176, 194, 483, 35, 512, 260, 594, 580, 388, 363, 197, 685, 157, 224, 623, 449, 270, 59, 331, 425, 419, 321, 510, 429, 366, 509, 103, 700, 236, 702, 583, 435, 496, 22, 556, 512, 413, 410, 283, 405, 390, 93, 125, 631, 429, 692, 629, 525, 410, 431, 308, 239, 209, 435, 453, 608, 277, 280, 357, 585, 539, 633, 286, 447, 422, 520, 545, 363, 345, 478, 611, 287, 367, 449, 373, 371, 410, 367, 569, 459, 493, 633, 477, 282, 635, 362, 517, 353, 93, 437, 546, 455, 341, 324, 275, 554, 569, 617, 461, 378, 546, 376, 552, 526, 426, 473, 590, 529, 417, 405, 453, 148, 477, 125, 503, 597, 350, 506, 388, 716, 280, 97, 462, 558, 342, 287, 180, 270, 527, 464, 62, 338, 253, 95, 371, 627, 357, 239, 106, 379, 455, 268, 398, 365, 30, 467, 69, 505, 275, 511, 603, 459, 547, 424, 450, 569, 516, 451, 252, 198, 520, 315, 448, 454, 481, 483, 458, 546, 320, 435, 516, 326, 540, 309, 436, 508, 459, 312, 382, 448, 629, 535, 492, 375, 206, 514, 384, 414, 340, 596, 518, 498, 441, 522, 593, 328, 325, 499, 535, 400, 511, 537, 353, 450, 417, 544, 112, 321, 365, 363, 419, 265, 449, 61, 515, 515, 411, 409, 278, 378, 539, 622, 509, 510, 424, 284, 270, 387, 336, 292, 541, 409, 165, 581, 544, 623, 636, 408, 289, 509, 604, 340, 399, 572, 473, 486, 469, 583, 412, 524, 439, 408, 165, 247, 430, 382, 605, 503, 266, 426, 630, 578, 524, 580, 431, 453, 283, 330, 223, 572, 365, 484, 188, 135, 379, 480, 668, 241, 27, 177, 365, 541, 607, 338, 492, 427, 453, 485, 593, 494, 331, 387, 439, 558, 579, 628, 496, 395, 160, 308, 44, 627, 492, 541, 247, 295, 425, 413, 477, 287, 509, 636, 292, 112, 499, 243, 621, 401, 494, 610, 411, 325, 451, 716, 374, 334, 417, 124, 370, 593, 345, 321, 399, 504, 487, 275, 383, 271, 620, 579, 418, 177, 695, 668, 320, 555, 572, 525, 527, 622, 336, 311, 332, 402, 435, 185, 695, 570, 423, 633, 572, 243, 693, 500, 572, 608, 344, 613, 580, 708, 445, 426, 444, 508, 376, 563, 586, 478, 512, 281, 210, 196, 603, 411, 397, 499, 402, 467, 632, 559, 488, 457, 602, 415, 482, 619, 653, 317, 416, 446, 614, 278, 618, 568, 430, 556, 538, 398, 365, 526, 331, 363, 289, 427, 367, 582, 278, 434, 273, 149, 670, 343, 473, 43, 658, 193, 286, 466, 536, 423, 388, 373, 549, 614, 300, 418, 353, 360, 561, 363, 564, 343, 623, 364, 523, 338, 456, 556, 272, 418, 561, 286, 314, 233, 98, 532, 615, 338, 290, 552, 466, 579, 516, 287, 319, 381, 546, 593, 707, 121, 343, 656, 366, 371, 127, 643, 412, 468, 362, 562, 414, 578, 520, 627, 582, 591, 428, 636, 351, 358, 309, 555, 361, 513, 394, 599, 532, 528, 429, 322, 312, 290, 433, 329, 338, 390, 459, 690, 546, 492, 341, 415, 245, 274, 631, 594, 98, 144, 233, 46, 16, 260, 428, 311, 631, 417, 217, 562, 413, 444, 707, 591, 277, 280, 327, 614, 538, 523, 400, 266, 206, 378, 455, 422, 274, 446, 579, 351, 538, 404, 563, 692, 380, 416, 62, 51, 350, 372, 523, 414, 378, 531, 347, 409, 462, 439, 299, 38, 470, 376, 504, 612, 451, 609, 586, 545, 331, 217, 511, 580, 326, 336, 607, 681, 16, 433, 420, 431, 588, 547, 633, 631, 515, 164, 423, 624, 385, 592, 629, 196, 679, 433, 233, 679, 564, 572, 208, 663, 478, 321, 390, 447, 487, 288, 625, 394, 634, 564, 421, 356, 477, 407, 465, 250, 196, 624, 335, 315, 540, 591, 600, 679, 563, 470, 482, 308, 415, 390, 635, 314, 584, 539, 371, 269, 547, 637, 397, 281, 590, 325, 158, 283, 612, 386, 266, 624, 372, 374, 676, 71, 270, 279, 37, 509, 501, 495, 527, 442, 608, 636, 478, 500, 670, 38, 563, 598, 445, 92, 259, 491, 538, 26, 340, 574, 610, 22, 203, 26, 360, 600, 468, 545, 291, 415, 371, 631, 634, 64, 432, 449, 259, 563, 284, 600, 529, 244, 388, 487, 428, 468, 474, 514, 79, 342, 350, 493, 587, 161, 51, 621, 70, 327, 432, 317, 370, 98, 602, 188, 284, 356, 277, 319, 589, 563, 468, 103, 518, 364, 120, 681, 178, 455, 713, 351, 371, 408, 398, 36, 488, 611, 269, 387, 309, 497, 481, 405, 637, 554, 310, 598, 613, 357, 396, 86, 370, 177, 582, 554, 563, 582, 628, 553, 418, 505, 570, 143, 600, 397, 447, 369, 557, 590, 499, 376, 491, 285, 613, 587, 278, 426, 482, 599, 515, 507, 269, 584, 405, 502, 567, 268, 118, 120, 622, 610, 636, 587, 417, 311, 412, 449, 356, 345, 457, 491, 63, 146, 229, 693, 561, 379, 613, 547, 451, 395, 452, 401, 545, 569, 313, 661, 165, 372, 395, 689, 609, 446, 527, 562, 442, 408, 539, 651, 278, 578, 285, 478, 418, 132]\n"
          ]
        }
      ],
      "source": [
        "threeHours = 3 * 60 * 60\n",
        "\n",
        "query = tripsObjects.filter(lambda trip: trip.duration > threeHours).map(lambda trip: trip.bike_id)\n",
        "print(\"Количество: \", query.count())\n",
        "print(query.collect())"
      ]
    }
  ],
  "metadata": {
    "colab": {
      "authorship_tag": "ABX9TyPVHXHcy8LxEAWIOw/mqoTa",
      "include_colab_link": true,
      "provenance": []
    },
    "kernelspec": {
      "display_name": "Python 3",
      "name": "python3"
    },
    "language_info": {
      "name": "python"
    }
  },
  "nbformat": 4,
  "nbformat_minor": 0
}
